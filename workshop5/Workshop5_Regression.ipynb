{
  "nbformat": 4,
  "nbformat_minor": 0,
  "metadata": {
    "kernelspec": {
      "display_name": "Python 3",
      "language": "python",
      "name": "python3"
    },
    "language_info": {
      "codemirror_mode": {
        "name": "ipython",
        "version": 3
      },
      "file_extension": ".py",
      "mimetype": "text/x-python",
      "name": "python",
      "nbconvert_exporter": "python",
      "pygments_lexer": "ipython3",
      "version": "3.6.8"
    },
    "colab": {
      "name": "Workshop5_Regression.ipynb",
      "provenance": []
    }
  },
  "cells": [
    {
      "cell_type": "code",
      "metadata": {
        "id": "aqNI294RnV0s"
      },
      "source": [
        "## For data handling\n",
        "import pandas as pd\n",
        "import numpy as np\n",
        "\n",
        "## For plotting\n",
        "import matplotlib.pyplot as plt\n",
        "import seaborn as sns\n",
        "\n",
        "## This sets the plot style\n",
        "## to have a grid on a white background\n",
        "sns.set_style(\"whitegrid\")"
      ],
      "execution_count": null,
      "outputs": []
    },
    {
      "cell_type": "markdown",
      "metadata": {
        "id": "kk2h75nNnV01"
      },
      "source": [
        "This data set came from the book, <a href=\"http://faculty.marshall.usc.edu/gareth-james/ISL/\">Introduction to Statistical Learning</a>, by  Gareth James, Daniela Witten, Trevor Hastie and Robert Tibshirani. \n",
        "\n",
        "The data can be found here, <a href=\"http://faculty.marshall.usc.edu/gareth-james/ISL/data.html\">http://faculty.marshall.usc.edu/gareth-james/ISL/data.html</a>."
      ]
    },
    {
      "cell_type": "code",
      "metadata": {
        "id": "yTVadBo4nV03"
      },
      "source": [
        "# Read in the data\n",
        "ads = pd.read_csv(\"Advertising.csv\")\n",
        "\n",
        "print(\"There are\", len(ads), \"observations in the data set.\")\n",
        "print(\"The columns are\", ads.columns)"
      ],
      "execution_count": null,
      "outputs": []
    },
    {
      "cell_type": "code",
      "metadata": {
        "id": "YQWosF7BnV1B"
      },
      "source": [
        "# Make the train test split\n",
        "ads_copy = ads.copy()\n",
        "\n",
        "# Set aside 25% of the data\n",
        "# make 614 the random_state because I live in Columbus\n",
        "ads_train = ads_copy.sample(frac = .75, random_state = 614)\n",
        "ads_test = ads_copy.drop(ads_train.index)\n",
        "ads_train.head()"
      ],
      "execution_count": null,
      "outputs": []
    },
    {
      "cell_type": "code",
      "metadata": {
        "id": "bJ6umVtcnV1G"
      },
      "source": [
        "# We'll use plt.scatter for this\n",
        "\n",
        "# first make a figure\n",
        "# this makes a figure that is 10 units by 10 units\n",
        "plt.figure(figsize = (10,10))\n",
        "\n",
        "# plt.scatter plots RD on the x and W on the y\n",
        "plt.scatter(ads_train.TV, ads_train.sales)\n",
        "\n",
        "# Always good practice to label well when\n",
        "# presenting a figure to others\n",
        "# place an xlabel\n",
        "plt.xlabel(\"TV\", fontsize =16)\n",
        "\n",
        "# place a ylabel\n",
        "plt.ylabel(\"Sales\", fontsize = 16)\n",
        "\n",
        "# type this to show the plot\n",
        "plt.show()"
      ],
      "execution_count": null,
      "outputs": []
    },
    {
      "cell_type": "markdown",
      "metadata": {
        "id": "uU_9N0DpnV1M"
      },
      "source": [
        "## What is Regression?\n",
        "\n",
        "The idea behind statistical learning is that there is some true relationship between $X$ and $y$ that is obscured by random noise. This leads to a statistical model:\n",
        "$$\n",
        "y = f(X) + \\epsilon,\n",
        "$$\n",
        "where $\\epsilon$ is random noise with mean zero.\n",
        "\n",
        "Regression modeling is the task of approximating a mapping function (f) from input variables (X) to a continuous output variable (y)"
      ]
    },
    {
      "cell_type": "markdown",
      "metadata": {
        "id": "UV8iLNOHnV1N"
      },
      "source": [
        "## Simple linear regression method\n",
        "\n",
        "For Simple Linear Regression we model the true relationship as a straight line, let the subscript $i$ denote the $i_{\\text{th}}$ observation:\n",
        "$$\n",
        "y_i = \\beta_0 + \\beta_1 x_i + \\epsilon_i,\n",
        "$$\n",
        "here $\\beta_0$ and $\\beta_1$ are coefficients we'll need to estimate, and $\\epsilon_i$ is random noise assumed to be an independent normally distributed with mean $0$ and standard deviation $\\sigma$. Note that we assume the same formula holds for all observations.\n",
        "\n",
        "### Estimating the Model - What is \"Best\"\n",
        "\n",
        "We need to choose $\\beta_0$ and $\\beta_1$ so that the line we produce is the \"best\", but what does \"best\" mean. In general it means that we don't want our estimated line to be too far from the data. A common measure used in regression problems is the <i>Mean Square Error (MSE)</i> or equivalently the <i>Root Mean Square Error</i> (=$\\sqrt{\\text{MSE}}$). \n",
        "\n",
        "Suppose that we decide that $\\hat{\\beta_0}$ and $\\hat{\\beta_1}$ are the best estimates, then the MSE for those estimates is\n",
        "$$\n",
        "MSE = \\frac{1}{n}\\sum_{i=1}^n(\\hat{y_i} - y_i)^2 = \\frac{1}{n}\\sum_{i=1}^n(\\hat{\\beta_0} + \\hat{\\beta_1}x_i - y_i)^2.\n",
        "$$\n",
        "The \"best\" estimates will be the $\\hat{\\beta_0}$ and $\\hat{\\beta_1}$ that minimize the MSE. Doing some Calculus you can derive that this gives the following best linear estimates for the $\\hat{\\beta}$s:\n",
        "$$\n",
        "\\hat{\\beta_1} = \\frac{\\sum_{i=1}^n\\left(x_i - \\overline{x}\\right)\\left(y_i - \\overline{y}\\right)}{\\sum_{i=1}^n\\left(x_i - \\overline{x}\\right)^2} = \\frac{\\text{cov}(x,y)}{\\sigma^2_{x}}, \\text{ and}\n",
        "$$\n",
        "<br>\n",
        "$$\n",
        "\\hat{\\beta_0} = \\overline{y} - \\hat{\\beta_1}\\overline{x}.\n",
        "$$\n",
        "These two formulas give the <i>least squares coefficient estimates</i> for simple linear regression."
      ]
    },
    {
      "cell_type": "code",
      "metadata": {
        "id": "jhBEE6zbnV1N"
      },
      "source": [
        "## Note you can get a column's variance using .var()\n",
        "## Note you can get a covariance matrix from a dataframe using .cov()\n",
        "\n",
        "# Get the means here\n",
        "sales_mean = ads_train.sales.mean()\n",
        "tv_mean = ads_train.TV.mean()\n",
        "\n",
        "\n",
        "# Get the covariance and variance\n",
        "cov = ads_train[['sales','TV']].cov().iloc[0,1]\n",
        "tv_var = ads_train.TV.var()\n",
        "\n",
        "# Calculate beta_1_hat\n",
        "beta_1_hat = cov/tv_var\n",
        "\n",
        "print('beta_1_hat', beta_1_hat)\n",
        "\n",
        "# Calculate beta_0_hat\n",
        "beta_0_hat = sales_mean - beta_1_hat * tv_mean\n",
        "\n",
        "print('beta_0_hat', beta_0_hat)"
      ],
      "execution_count": null,
      "outputs": []
    },
    {
      "cell_type": "markdown",
      "metadata": {
        "id": "QvdfM3yMnV1T"
      },
      "source": [
        "### Using sklearn"
      ]
    },
    {
      "cell_type": "code",
      "metadata": {
        "id": "2nYXqzJDnV1V"
      },
      "source": [
        "## Model Building with sklearn\n",
        "\n",
        "# first we import Linear Regression from sklearn\n",
        "from sklearn.linear_model import LinearRegression"
      ],
      "execution_count": null,
      "outputs": []
    },
    {
      "cell_type": "code",
      "metadata": {
        "id": "19pmIJ50nV1Z"
      },
      "source": [
        "# Now we make a model object\n",
        "slr = LinearRegression(copy_X = True)\n",
        "\n",
        "# Now we fit the model\n",
        "# first goes the input variables\n",
        "# Then the output variables\n",
        "# If the input is a 1-D vector you need to reshape it\n",
        "# Then you need to ravel() the output\n",
        "slr.fit(ads_train['TV'].values.reshape(-1,1), ads_train['sales'].values.ravel())\n",
        "\n",
        "# Now we can see the coefficients\n",
        "print(\"beta_1_hat is\", slr.coef_[0])\n",
        "print(\"beta_0_hat is\", slr.intercept_)\n",
        "\n",
        "print()\n",
        "\n",
        "# Let's compare that to what we computed\n",
        "print(\"We computed beta_1_hat to be\", beta_1_hat)\n",
        "print(\"We compute beta_0_hat to be\", beta_0_hat)"
      ],
      "execution_count": null,
      "outputs": []
    },
    {
      "cell_type": "markdown",
      "metadata": {
        "id": "4BVyYop9nV1e"
      },
      "source": [
        "How to predict on the new data?"
      ]
    },
    {
      "cell_type": "code",
      "metadata": {
        "id": "ZY3p4zTUnV1f"
      },
      "source": [
        "slr.predict(ads_test['TV'].values.reshape(-1,1))"
      ],
      "execution_count": null,
      "outputs": []
    },
    {
      "cell_type": "markdown",
      "metadata": {
        "id": "6x4y6CannV1j"
      },
      "source": [
        "Plot using sns plot"
      ]
    },
    {
      "cell_type": "code",
      "metadata": {
        "id": "zVB28N5vnV1k",
        "outputId": "6c1d5c8f-c8dd-45aa-dfa1-0a4df47484bb"
      },
      "source": [
        "sns.lmplot(data = ads_train, x = 'TV', y = 'sales', height = 10, ci=None)\n",
        "\n",
        "\n",
        "plt.xlabel(\"TV\")\n",
        "plt.ylabel(\"sales\")\n",
        "\n",
        "plt.show()"
      ],
      "execution_count": null,
      "outputs": [
        {
          "output_type": "display_data",
          "data": {
            "image/png": "[encoded data removed]",
            "text/plain": [
              "<Figure size 720x720 with 1 Axes>"
            ]
          },
          "metadata": {
            "tags": []
          }
        }
      ]
    },
    {
      "cell_type": "markdown",
      "metadata": {
        "id": "zFxUFgh4nV1o"
      },
      "source": [
        "### Interpreting the Coeficient of SLR\n",
        "A good thing about SLR is that we can interpret the $\\beta_1$ coefficient in a meaningful way. If for example $\\hat{\\beta_1} = 2$ in our problem we could say that for a $1$ point increase in TV ad we estimate an increase of $2$ point in sales."
      ]
    },
    {
      "cell_type": "code",
      "metadata": {
        "id": "jupu5U3dnV1p"
      },
      "source": [
        "print(\"A 1 point increase in TV ad gives an estimated np.round(beta_1_hat,4), additional sales.\")"
      ],
      "execution_count": null,
      "outputs": []
    },
    {
      "cell_type": "markdown",
      "metadata": {
        "id": "U6ntr83bnV1u"
      },
      "source": [
        "### Accuracy on the testing dataset"
      ]
    },
    {
      "cell_type": "code",
      "metadata": {
        "id": "lN5l6bz6nV1v"
      },
      "source": [
        "from sklearn.metrics import mean_squared_error\n",
        "y_test = ads_test.sales.values\n",
        "y_test_pred = slr.predict(ads_test.sales.values.reshape(-1,1))\n",
        "\n",
        "\n",
        "print(\"The testing MSE is\",mean_squared_error(y_test,y_test_pred))"
      ],
      "execution_count": null,
      "outputs": []
    },
    {
      "cell_type": "markdown",
      "metadata": {
        "id": "tmoOJ6vZnV10"
      },
      "source": [
        "### Assumtions of linear regression"
      ]
    },
    {
      "cell_type": "code",
      "metadata": {
        "id": "RJ_1GLHfnV12"
      },
      "source": [
        "from  sklearn.datasets import make_regression\n",
        "x, y, coef = make_regression(n_samples=500,#number of samples\n",
        "                                      n_features=1,#number of features\n",
        "                                      n_informative=1,#number of useful features \n",
        "                                      noise=10,#bias and standard deviation of the guassian noise\n",
        "                                      coef=True,#true coefficient used to generated the data\n",
        "                                      random_state=0) #set for same data points for each run\n",
        "\n",
        "# Scale feature x (years of experience) to range 0..20\n",
        "x = np.interp(x, (x.min(), x.max()), (0, 20))\n",
        "\n",
        "# Scale target y (salary) to range 20000..150000 \n",
        "y = np.interp(y, (y.min(), y.max()), (20000, 150000))"
      ],
      "execution_count": null,
      "outputs": []
    },
    {
      "cell_type": "code",
      "metadata": {
        "id": "rNYEnNGQnV15"
      },
      "source": [
        "regr_df = pd.DataFrame(data={'experience':x.flatten(),'salary':y})\n",
        "regr_df.head(10)"
      ],
      "execution_count": null,
      "outputs": []
    },
    {
      "cell_type": "markdown",
      "metadata": {
        "id": "KYZXTsOWnV1_"
      },
      "source": [
        "#### Assumption 1 - A Linear Relationship\n",
        "There exists a linear relationship between $y$ and $X$. This one is pretty straightforward. If we are going to model $y$ as a linear function of $X$ then we better think that one actually exists."
      ]
    },
    {
      "cell_type": "code",
      "metadata": {
        "id": "pC_-7eyUnV2B"
      },
      "source": [
        "# We'll use plt.scatter for this\n",
        "\n",
        "# first make a figure\n",
        "# this makes a figure that is 10 units by 10 units\n",
        "plt.figure(figsize = (10,10))\n",
        "\n",
        "# plt.scatter plots TV on the x and sales on the y\n",
        "plt.scatter(regr_df.experience, regr_df.salary)\n",
        "\n",
        "# place an xlabel\n",
        "plt.xlabel(\"experience\", fontsize =16)\n",
        "\n",
        "# place a ylabel\n",
        "plt.ylabel(\"salary\", fontsize = 16)\n",
        "\n",
        "# type this to show the plot\n",
        "plt.show()"
      ],
      "execution_count": null,
      "outputs": []
    },
    {
      "cell_type": "markdown",
      "metadata": {
        "id": "w6_lU2wnnV2F"
      },
      "source": [
        "Pearson Correlation, $\\rho$  is the measure of the <i>strength of the linear relationship</i> between $y$ and $X$."
      ]
    },
    {
      "cell_type": "code",
      "metadata": {
        "id": "PlnQdaQFnV2G"
      },
      "source": [
        "# Let's calculate it here\n",
        "\n",
        "# pandas has a nice corr() function\n",
        "regr_df[['experience','salary']].corr()"
      ],
      "execution_count": null,
      "outputs": []
    },
    {
      "cell_type": "markdown",
      "metadata": {
        "id": "lbNKzgAmnV2K"
      },
      "source": [
        "Pearson Correlation is bounded between $-1$ and $1$ with more positive values indicating a strong positive linear relationship, and more negative values indicating a strong negative linear relationship. Our correlation of $0.98$ here indicates that there is strong positive linear relationship between experince and salary.\n",
        "\n",
        "Potential solutions:\n",
        "non-linear transformations to dependent/independent variables"
      ]
    },
    {
      "cell_type": "markdown",
      "metadata": {
        "id": "kjiIYCbonV2L"
      },
      "source": [
        "#### Assumption 2 - No Autocorrelation in residuals."
      ]
    },
    {
      "cell_type": "markdown",
      "metadata": {
        "id": "9GDonBasnV2L"
      },
      "source": [
        "We also assume that there is no autocorrelation in resdiuals. Plot your residuals (this is what we call the difference between the predicted values and the actual values, $w_i - \\hat{w_i}$) against your feature and other variables of concern. Then you examine the plots to see if there is an obvious relationship. Let's do that below."
      ]
    },
    {
      "cell_type": "code",
      "metadata": {
        "id": "PYF0bF1LnV2M"
      },
      "source": [
        "# make the model object\n",
        "reg = LinearRegression(copy_X = True)\n",
        "\n",
        "# fit the model\n",
        "reg.fit(regr_df.experience.values.reshape(-1,1),regr_df.salary.values.ravel())\n",
        "\n",
        "# predict\n",
        "pred = reg.predict(regr_df.experience.values.reshape(-1,1))\n",
        "\n",
        "# Now get the residuals\n",
        "res = regr_df.salary.values.ravel() - pred\n",
        "\n",
        "plt.figure(figsize = (12,12))\n",
        "\n",
        "plt.scatter(regr_df.experience,res)\n",
        "\n",
        "plt.xlabel(\"experience\", fontsize = 16)\n",
        "plt.ylabel(\"Residual\", fontsize = 16)\n",
        "\n",
        "plt.show()"
      ],
      "execution_count": null,
      "outputs": []
    },
    {
      "cell_type": "markdown",
      "metadata": {
        "id": "KOSfhgyLnV2Q"
      },
      "source": [
        "Looking at the plot of experience vs residual it seems that the two have no obvious relationship, which is a good sign for our inderpendence assumption. \n",
        "\n",
        "Potential solutions:\n",
        "Correlations in residual frequently occur in the context of time series data. Hence, you might fit time series data\n",
        "\n",
        "#### Assumption 3 - The Residuals are Normally Distributed with Mean 0 and Equal Variance\n",
        "\n",
        "The final assumption is on the distribution of the residuals. We say that $\\epsilon_i \\sim N(0,\\sigma^2)$ for all $i$. The assumption on variance is called the homoscedasticity assumption.\n",
        "\n",
        "We can make a histogram of the residuals to check for a bell curve."
      ]
    },
    {
      "cell_type": "code",
      "metadata": {
        "id": "EqYHM1KsnV2R"
      },
      "source": [
        "plt.figure(figsize = (10,8))\n",
        "\n",
        "plt.hist(res, bins=30)\n",
        "\n",
        "plt.show()"
      ],
      "execution_count": null,
      "outputs": []
    },
    {
      "cell_type": "code",
      "metadata": {
        "id": "1j3qIB77nV2U"
      },
      "source": [
        "import statsmodels.api as sm \n",
        "\n",
        "fig,ax = plt.subplots(figsize=(10,8))\n",
        "\n",
        "# qqplot makes the qqplot\n",
        "# put in the data you want to plot\n",
        "# line = 's' plots a line fit to our data\n",
        "# ax=ax allows us to put the data on the plt subplot object I made\n",
        "sm.qqplot(res,line='s',ax=ax) \n",
        "\n",
        "# Normals go on the x-axis\n",
        "plt.xlabel(\"Normal Quantiles\", fontsize=16)\n",
        "\n",
        "# Residuals on the y-axis\n",
        "plt.ylabel(\"Residual Quantiles\", fontsize=16)\n",
        "\n",
        "\n",
        "plt.show() "
      ],
      "execution_count": null,
      "outputs": []
    },
    {
      "cell_type": "markdown",
      "metadata": {
        "id": "bsb_mwt3nV2X"
      },
      "source": [
        "Residuals should have a constant variance\n",
        "Now we plot the predicted values vs the residuals. If the residuals have equal variance you should expect to see most of the points fall in a band around $0$. We DON'T want to see the points opening up into a funnel shape or closing into a funnel shape."
      ]
    },
    {
      "cell_type": "code",
      "metadata": {
        "id": "cejlCGdHnV2Y"
      },
      "source": [
        "plt.figure(figsize=(12,10))\n",
        "\n",
        "plt.scatter(pred,res)\n",
        "\n",
        "plt.xlabel(\"Fitted Values\", fontsize = 16)\n",
        "plt.ylabel(\"Residuals\", fontsize = 16)\n",
        "\n",
        "plt.show()"
      ],
      "execution_count": null,
      "outputs": []
    },
    {
      "cell_type": "markdown",
      "metadata": {
        "id": "O51wXIXHnV2b"
      },
      "source": [
        "one possible solution is to transform the response Y using a concave function such as log Y or √\n",
        "Y ."
      ]
    },
    {
      "cell_type": "markdown",
      "metadata": {
        "id": "f3cVwG0AnV2d"
      },
      "source": [
        "## Multiple linear regression model\n",
        "\n",
        "## What Changes Going From One Predictor to Many?\n",
        "\n",
        "### The Statistical Model\n",
        "\n",
        "As always assume the data consists of $n$ observations.\n",
        "\n",
        "Recall that the simple linear regression statistical model is:\n",
        "$$\n",
        "y = \\beta_0 + \\beta_1 X + \\epsilon,\n",
        "$$\n",
        "where $y$ was your target vector, $X$ a vector of values for a single feature, and $\\epsilon$ is a vector of independent $\\epsilon_i \\sim N(0,\\sigma^2)$ for all $i$. \n",
        "\n",
        "Now for multiple linear regression let's say you have $m$ features you want to use to predict $y$. Then the model becomes:\n",
        "$$\n",
        "y = \\beta_0 + \\beta_1 X_1 + \\beta_2 X_2 + \\dots + \\beta_m X_m + \\epsilon ,\n",
        "$$\n",
        "where $X_1,X_2,\\dots,X_m$ are the $m$ features, and $\\epsilon$ is the same as in SLR. If we collect all of the features as a single column along with a column of $1$s in a larger feature matrix,\n",
        "$$\n",
        "X = \\left(\\begin{array}{c | c | c | c | c}\n",
        "    1 & X_1 & X_2 & \\dots & X_m\n",
        "\\end{array}\\right),\n",
        "$$\n",
        "and let $\\beta=\\left(\\beta_0, \\beta_1, \\beta_2,\\dots,\\beta_m\\right)^T$ then the statistical model for MLR becomes:\n",
        "$$\n",
        "y = X\\beta + \\epsilon.\n",
        "$$\n",
        "\n",
        "We're still making all of the same assumptions as in SLR, but now $y$ is a linear function of $m$ predictors instead of just $1$. \n",
        "\n",
        "### Estimating the Model\n",
        "\n",
        "When it comes to estimating $\\beta$ we can get away with just using the `sklearn` shortcut we learned in SLR I in practice. However, let's show the formula for the estimate $\\hat{\\beta}$ so we can get behind the black box nature of `sklearn`.\n",
        "\n",
        "#### Minimizing MSE\n",
        "\n",
        "We again set out to minimize the MSE\n",
        "$$\n",
        "MSE = \\frac{1}{n} \\sum_{i=1}^n \\left( y_i - \\hat{y_i} \\right)^2 = \\frac{1}{n} \\sum_{i=1}^n \\left( y_i - X_{i,\\bullet} \\hat{\\beta} \\right)^2\n",
        "$$\n",
        "You can use some rewriting, linear algebra, and matrix differentiation to come up with the following OLS estimate for $\\beta$,\n",
        "$$\n",
        "\\hat{\\beta} = (X^TX)^{-1}X^Ty.\n",
        "$$\n",
        "This is the estimate of $\\beta$ that minimizes the MSE, you may hear people refer to this as the normal equation or the Ordinary Least Squares (OLS) Solution."
      ]
    },
    {
      "cell_type": "markdown",
      "metadata": {
        "id": "IX6NqzLhnV2d"
      },
      "source": [
        "How can we decide which predictors to include? "
      ]
    },
    {
      "cell_type": "code",
      "metadata": {
        "id": "uD-YxJTVnV2e"
      },
      "source": [
        "ads_train.corr()['sales'].sort_values()"
      ],
      "execution_count": null,
      "outputs": []
    },
    {
      "cell_type": "markdown",
      "metadata": {
        "id": "evCuTh6tnV2h"
      },
      "source": [
        "It looks like `radio` and `TV` are the most promising when it comes to having a linear relationship. Both have relatively strong positive linear relationships according to the Pearson correlation. In addition to examining $\\rho$, this data set has so few features we can produce pairwise correlation plot. "
      ]
    },
    {
      "cell_type": "code",
      "metadata": {
        "id": "RyKWpqyAnV2i"
      },
      "source": [
        "sns.pairplot(ads_train, plot_kws={'s': 7})\n",
        "\n",
        "plt.show()\n"
      ],
      "execution_count": null,
      "outputs": []
    },
    {
      "cell_type": "markdown",
      "metadata": {
        "id": "wiHRF5nNnV2p"
      },
      "source": [
        "It seems that a reasonable starting model would be\n",
        "$$\n",
        "\\text{sales} = \\beta_0 + \\beta_1 \\text{TV} + \\beta_2 \\text{radio} + \\epsilon\n",
        "$$\n",
        "Let's fit the coefficients using the formula we just learned before diving into `sklearn`."
      ]
    },
    {
      "cell_type": "code",
      "metadata": {
        "id": "JGzRQUEenV2p"
      },
      "source": [
        "# make X\n",
        "X = np.ones([len(ads_train),3])\n",
        "X[:,1] = np.array(ads_train.TV)\n",
        "X[:,2] = np.array(ads_train.radio)\n",
        "\n",
        "# Make y\n",
        "y = np.array(ads_train.sales)\n",
        "\n",
        "# Calculate beta_hat\n",
        "beta_hat = np.linalg.inv(X.transpose().dot(X)).dot(X.transpose()).dot(y)"
      ],
      "execution_count": null,
      "outputs": []
    },
    {
      "cell_type": "code",
      "metadata": {
        "id": "DLr93GqonV2t"
      },
      "source": [
        "print(\"beta_0_hat is\",np.round(beta_hat[0],5))\n",
        "print(\"beta_1_hat is\",np.round(beta_hat[1],5))\n",
        "print(\"beta_2_hat is\",np.round(beta_hat[2],5))\n",
        "#print(\"beta_3_hat is\",np.round(beta_hat[3],5))"
      ],
      "execution_count": null,
      "outputs": []
    },
    {
      "cell_type": "markdown",
      "metadata": {
        "id": "b5g5npJ_nV2w"
      },
      "source": [
        "Using sklearn"
      ]
    },
    {
      "cell_type": "code",
      "metadata": {
        "id": "jBjYfOfmnV2x"
      },
      "source": [
        "# Make the model object\n",
        "reg = LinearRegression(copy_X = True)\n",
        "reg.fit(ads_train[['TV','radio']],ads_train['sales'])\n",
        "print(\"beta_0_hat is\",np.round(reg.intercept_,5))\n",
        "print(\"beta_1_hat is\",np.round(reg.coef_[0],5))\n",
        "print(\"beta_2_hat is\",np.round(reg.coef_[1],5))"
      ],
      "execution_count": null,
      "outputs": []
    },
    {
      "cell_type": "markdown",
      "metadata": {
        "id": "2n_ia8qpnV21"
      },
      "source": [
        "#### Predict function"
      ]
    },
    {
      "cell_type": "code",
      "metadata": {
        "id": "bfXe9vMnnV22"
      },
      "source": [
        "pred = reg.predict(ads_train[['TV','radio']])\n",
        "pred[:10]"
      ],
      "execution_count": null,
      "outputs": []
    },
    {
      "cell_type": "code",
      "metadata": {
        "id": "4McQDaLDnV25"
      },
      "source": [
        "y_test = ads_test.sales.values\n",
        "y_test_pred = reg.predict(ads_test[['TV','radio']])\n",
        "\n",
        "\n",
        "print(\"The testing MSE is\",mean_squared_error(y_test,y_test_pred))"
      ],
      "execution_count": null,
      "outputs": []
    },
    {
      "cell_type": "markdown",
      "metadata": {
        "id": "SyFTPEbAnV27"
      },
      "source": [
        "#### Multiple linear regression Interpretation\n",
        "\n",
        "We can still interpret the fit, but the specific details are slightly different. Let's interpret $\\hat{\\beta_1}$, this has been estimated as $0.04645$. We can interpret this as:\n",
        "\n",
        "<i>for a $1$ unit increase in TV holding all other variables constant, we estimate a $0.04645$ increase in sales.</i>"
      ]
    },
    {
      "cell_type": "markdown",
      "metadata": {
        "id": "yxJfI7ixnV29"
      },
      "source": [
        "#### Assumption 4 - Multicollinearity\n",
        "\n",
        "Collinearity refers to the situation in which two or more predictor variables collinearity\n",
        "are closely related to one another. Multicollinearity occurs when your model includes multiple factors that are correlated not just to your response variable, but also to each other. In other words, it results when you have factors that are a bit redundant. <br>\n",
        "\n",
        "When this occurs the matrix $X^T X$ is not of full rank, which means it is not invertible, but remember\n",
        "$$\n",
        "\\hat{\\beta} = (X^T X)^{-1} X^T y.\n",
        "$$\n",
        "\n",
        "So not being invertible is a big problem for us. Fortunately it is rarely the case that one predictor is a perfect linear combination of other predictors. However, one feature being highly correlated with other features can make a matrix close to singular, which is no good for your computer.\n",
        "\n",
        "A simple way to detect collinearity is to look at the correlation matrix of the predictors. An element of this matrix that is large in absolute value indicates a pair of highly correlated variables, and therefore a collinearity problem in the data. Unfortunately, not all collinearity problems can be\n",
        "detected by inspection of the correlation matrix: it is possible for collinearity to exist between three or more variables even if no pair of variables has a particularly high correlation. We call this situation multicollinearity. Instead of inspecting the correlation matrix, a better way to assess multi- collinearity\n",
        "collinearity is to compute the variance inflation factor. You can read about more details in ISLR book from the refrence."
      ]
    },
    {
      "cell_type": "markdown",
      "metadata": {
        "id": "DUUwylWUnV29"
      },
      "source": [
        "Refrences: <br>\n",
        "1) Erdos institute <br>\n",
        "2) https://ademos.people.uic.edu/Chapter12.html <br>\n",
        "3) ISLR (Introduction to Statistical learning)"
      ]
    }
  ]
}