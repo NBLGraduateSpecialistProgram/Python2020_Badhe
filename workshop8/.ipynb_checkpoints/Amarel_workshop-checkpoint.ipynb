{
 "cells": [
  {
   "cell_type": "markdown",
   "metadata": {},
   "source": [
    "# Airbnb price prediction in NewYork City\n",
    "\n",
    "## Importing Libraries"
   ]
  },
  {
   "cell_type": "code",
   "execution_count": null,
   "metadata": {},
   "outputs": [],
   "source": [
    "import numpy as np\n",
    "import pandas as pd\n",
    "import matplotlib.pyplot as plt\n",
    "import matplotlib.image as mpimg\n",
    "%matplotlib inline\n",
    "import seaborn as sns\n",
    "import warnings\n",
    "warnings.filterwarnings('ignore')"
   ]
  },
  {
   "cell_type": "markdown",
   "metadata": {},
   "source": [
    "## Loading and exploring Dataset"
   ]
  },
  {
   "cell_type": "markdown",
   "metadata": {},
   "source": [
    "data used in this notebook is publically avaiable at [website](http://insideairbnb.com/get-the-data.html).\n",
    "We have used data only for new york city of year 2019"
   ]
  },
  {
   "cell_type": "code",
   "execution_count": null,
   "metadata": {},
   "outputs": [],
   "source": [
    "airbnb_df =pd.read_csv('AB_NYC_2019.csv')"
   ]
  },
  {
   "cell_type": "code",
   "execution_count": null,
   "metadata": {},
   "outputs": [],
   "source": [
    "airbnb_df.head()"
   ]
  },
  {
   "cell_type": "code",
   "execution_count": null,
   "metadata": {},
   "outputs": [],
   "source": [
    "airbnb_df.describe()"
   ]
  },
  {
   "cell_type": "markdown",
   "metadata": {},
   "source": [
    "As expected none of the value for price is negative. Hence, there is no issue in data collection. We can see that mean price is 152 dollars and median price is 106 dollars"
   ]
  },
  {
   "cell_type": "markdown",
   "metadata": {},
   "source": [
    "### Check for the null values in each column"
   ]
  },
  {
   "cell_type": "code",
   "execution_count": null,
   "metadata": {},
   "outputs": [],
   "source": [
    "airbnb_df.info()"
   ]
  },
  {
   "cell_type": "code",
   "execution_count": null,
   "metadata": {},
   "outputs": [],
   "source": [
    "airbnb_df.isnull().sum()"
   ]
  },
  {
   "cell_type": "markdown",
   "metadata": {},
   "source": [
    "As we can see above there are some missing data for some features. We will address this later."
   ]
  },
  {
   "cell_type": "markdown",
   "metadata": {},
   "source": [
    "## Data Visualization"
   ]
  },
  {
   "cell_type": "code",
   "execution_count": null,
   "metadata": {},
   "outputs": [],
   "source": [
    "plt.figure(figsize=(10,10))\n",
    "sns.countplot(airbnb_df['neighbourhood_group'], palette=\"viridis\")\n",
    "plt.title('Neighbourhood Group')"
   ]
  },
  {
   "cell_type": "markdown",
   "metadata": {},
   "source": [
    "This Shows that most of Airbnb Listings in New York are near Brooklyn and Manhattan"
   ]
  },
  {
   "cell_type": "code",
   "execution_count": null,
   "metadata": {},
   "outputs": [],
   "source": [
    "plt.figure(figsize=(10,10))\n",
    "sns.countplot(airbnb_df['room_type'], palette=\"viridis\")\n",
    "plt.title('Room type')"
   ]
  },
  {
   "cell_type": "markdown",
   "metadata": {},
   "source": [
    "Plot shows that Entire Home/Apartment are listed most near Manhattan while Private Rooms and Apartments Near Brooklyn are Nearly Equal"
   ]
  },
  {
   "cell_type": "code",
   "execution_count": null,
   "metadata": {},
   "outputs": [],
   "source": [
    "plt.figure(figsize=(10,10))\n",
    "sns.countplot(airbnb_df['neighbourhood_group'],hue=airbnb_df['room_type'], palette=\"viridis\")\n",
    "plt.title('Room type')"
   ]
  },
  {
   "cell_type": "code",
   "execution_count": null,
   "metadata": {},
   "outputs": [],
   "source": [
    "def create_price_plot(airbnb_df, type_room):\n",
    "\tnum_airbnb_df=airbnb_df._get_numeric_data()\n",
    "\tnum_airbnb_df.replace([np.inf, -np.inf], np.nan).dropna(axis=1)# replaced all values of Infinity with Nan\n",
    "\n",
    "\t# print(num_airbnb_df.dtypes)# checking datatypes of  numeric columns\n",
    "\n",
    "\t# print(\"------------------------------------------------\")\n",
    "\t# print(num_airbnb_df.isnull().sum()) # This shows that oly reviews_per_month had missing values so we have to fill it up\n",
    "\n",
    "\t#replacing all NaN values in 'reviews_per_month' with 0\n",
    "\tnum_airbnb_df.fillna({'reviews_per_month':0}, inplace=True)\n",
    "\n",
    "\t#Brooklyn\n",
    "\tsubset_brooklyn=airbnb_df.loc[(airbnb_df['neighbourhood_group'] == 'Brooklyn') & (airbnb_df['room_type']==type_room)]\n",
    "\tprice_sub1=num_airbnb_df['price'].iloc[subset_brooklyn.index]# prices for Neighbourhood group having Brooklyn\n",
    "\tpercentile_price_brooklyn=[]\n",
    "\n",
    "\n",
    "\t#Bronx\n",
    "\tsubset_bronx=airbnb_df.loc[(airbnb_df['neighbourhood_group'] == 'Bronx') & (airbnb_df['room_type']==type_room)]\n",
    "\tprice_sub2=num_airbnb_df['price'].iloc[subset_bronx.index]# prices for Neighbourhood group having Bronx\n",
    "\tpercentile_price_Bronx=[]\n",
    "\n",
    "\t#Staten Island\n",
    "\tsubset_staten_island=airbnb_df.loc[(airbnb_df['neighbourhood_group'] == 'Staten Island') & (airbnb_df['room_type']==type_room)]\n",
    "\tprice_sub3=num_airbnb_df['price'].iloc[subset_staten_island.index]# prices for Neighbourhood group having Staten Island\n",
    "\tpercentile_price_Staten_Island=[] \n",
    "\n",
    "\t#Queens\n",
    "\tsubset_queens=airbnb_df.loc[(airbnb_df['neighbourhood_group'] == 'Queens') & (airbnb_df['room_type']==type_room)]\n",
    "\tprice_sub4=num_airbnb_df['price'].iloc[subset_queens.index]# prices for Neighbourhood group having Queens\n",
    "\tpercentile_price_Queens=[]\n",
    "\n",
    "\n",
    "\t#Manhattan\n",
    "\tsubset_manhattan=airbnb_df.loc[(airbnb_df['neighbourhood_group'] == 'Manhattan') & (airbnb_df['room_type']==type_room)]\n",
    "\tprice_sub5=num_airbnb_df['price'].iloc[subset_manhattan.index]# prices for Neighbourhood group having Manhattan\n",
    "\tpercentile_price_Manhattan=[]\n",
    "\n",
    "\tpercentiles=[]# percentiles\n",
    "\tfor i in range(25,91):\n",
    "\t    percentile_price_brooklyn.append(int(price_sub1.quantile(i/100)))\n",
    "\t    percentile_price_Bronx.append(int(price_sub2.quantile(i/100)))\n",
    "\t    percentile_price_Staten_Island.append(int(price_sub3.quantile(i/100)))\n",
    "\t    percentile_price_Queens.append(int(price_sub4.quantile(i/100)))\n",
    "\t    percentile_price_Manhattan.append(int(price_sub5.quantile(i/100)))\n",
    "\t    percentiles.append(i)   \n",
    "\n",
    "\tplt.title('Prices of '+type_room,fontsize=15,color='Red')\n",
    "\tsns.set_style(\"darkgrid\")\n",
    "\n",
    "\t# for i in range(2):\n",
    "\n",
    "\tsd=sns.lineplot(x=pd.Series(percentiles),y=pd.Series(percentile_price_brooklyn),label='Brooklyn')\n",
    "\tsd=sns.lineplot(x=pd.Series(percentiles),y=pd.Series(percentile_price_Bronx),label='Bronx')\n",
    "\tsd=sns.lineplot(x=pd.Series(percentiles),y=pd.Series(percentile_price_Staten_Island),label='Staten Island')\n",
    "\tsd=sns.lineplot(x=pd.Series(percentiles),y=pd.Series(percentile_price_Queens),label='Queens')\n",
    "\tsd=sns.lineplot(x=pd.Series(percentiles),y=pd.Series(percentile_price_Manhattan),label='Manhattan')\n",
    "\n",
    "\tsd.set(xlabel='Percentiles', ylabel='Percentile Prices in U.S $')"
   ]
  },
  {
   "cell_type": "code",
   "execution_count": null,
   "metadata": {},
   "outputs": [],
   "source": [
    "create_price_plot(airbnb_df, 'Shared room')"
   ]
  },
  {
   "cell_type": "markdown",
   "metadata": {},
   "source": [
    "Above plot shows the comparison of prices of Shared Rooms, this Shows getting a shared room is cheapest near Bronx and costliest near Manhattan"
   ]
  },
  {
   "cell_type": "code",
   "execution_count": null,
   "metadata": {},
   "outputs": [],
   "source": [
    "create_price_plot(airbnb_df, 'Private room')"
   ]
  },
  {
   "cell_type": "code",
   "execution_count": null,
   "metadata": {},
   "outputs": [],
   "source": [
    "create_price_plot(airbnb_df, 'Entire home/apt')"
   ]
  },
  {
   "cell_type": "markdown",
   "metadata": {},
   "source": [
    "### Map of New York"
   ]
  },
  {
   "cell_type": "markdown",
   "metadata": {},
   "source": [
    "<img src=\"nyc_map.png\">"
   ]
  },
  {
   "cell_type": "code",
   "execution_count": null,
   "metadata": {},
   "outputs": [],
   "source": [
    "plt.figure(figsize=(10,6))\n",
    "sns.scatterplot(airbnb_df.longitude,airbnb_df.latitude,hue=airbnb_df.neighbourhood_group)\n",
    "plt.ioff()"
   ]
  },
  {
   "cell_type": "markdown",
   "metadata": {},
   "source": [
    "The above plot shows the count of available spots in different neighborhoods. We can see most of AirBnb are in Brooklyn and Manhattan."
   ]
  },
  {
   "cell_type": "code",
   "execution_count": null,
   "metadata": {},
   "outputs": [],
   "source": [
    "plt.figure(figsize=(10,6))\n",
    "sns.scatterplot(airbnb_df.longitude,airbnb_df.latitude,hue=airbnb_df.room_type)\n",
    "plt.ioff()"
   ]
  },
  {
   "cell_type": "markdown",
   "metadata": {},
   "source": [
    "The above plot shows the roomtype of different Airbnb spots in NYC."
   ]
  },
  {
   "cell_type": "code",
   "execution_count": null,
   "metadata": {},
   "outputs": [],
   "source": [
    "plt.figure(figsize=(10,6))\n",
    "sns.scatterplot(airbnb_df.longitude,airbnb_df.latitude,hue=airbnb_df.availability_365,palette=\"viridis\")\n",
    "plt.ioff()"
   ]
  },
  {
   "cell_type": "markdown",
   "metadata": {},
   "source": [
    "## Modelling"
   ]
  },
  {
   "cell_type": "markdown",
   "metadata": {},
   "source": [
    "#### Drop unnecessary columns"
   ]
  },
  {
   "cell_type": "code",
   "execution_count": null,
   "metadata": {},
   "outputs": [],
   "source": [
    "airbnb_df.drop(['host_id','host_name','latitude','longitude','neighbourhood','last_review'], axis=1, inplace=True)\n",
    "#examing the changes\n",
    "airbnb_df.head(5)"
   ]
  },
  {
   "cell_type": "markdown",
   "metadata": {},
   "source": [
    "#### Encode categorical columns"
   ]
  },
  {
   "cell_type": "code",
   "execution_count": null,
   "metadata": {},
   "outputs": [],
   "source": [
    "airbnb_en_df = airbnb_df.copy()\n",
    "for column in airbnb_en_df.columns[airbnb_en_df.columns.isin(['neighbourhood_group', 'room_type'])]:\n",
    "    airbnb_en_df[column] = airbnb_en_df[column].factorize()[0]\n",
    "airbnb_en_df.head()"
   ]
  },
  {
   "cell_type": "code",
   "execution_count": null,
   "metadata": {},
   "outputs": [],
   "source": [
    "mean = airbnb_en_df['reviews_per_month'].mean()\n",
    "airbnb_en_df['reviews_per_month'].fillna(mean, inplace=True)\n",
    "airbnb_en_df.isnull().sum()"
   ]
  },
  {
   "cell_type": "code",
   "execution_count": null,
   "metadata": {},
   "outputs": [],
   "source": [
    "airbnb_en_df = airbnb_en_df[airbnb_en_df['name'].notna()]\n",
    "airbnb_en_df.isnull().sum()"
   ]
  },
  {
   "cell_type": "markdown",
   "metadata": {},
   "source": [
    "#### Multicollinearity"
   ]
  },
  {
   "cell_type": "code",
   "execution_count": null,
   "metadata": {},
   "outputs": [],
   "source": [
    "corr = airbnb_en_df.corr(method='kendall')\n",
    "plt.figure(figsize=(18,12))\n",
    "sns.heatmap(corr, annot=True)"
   ]
  },
  {
   "cell_type": "markdown",
   "metadata": {},
   "source": [
    "### Multiple Linear Regression"
   ]
  },
  {
   "cell_type": "code",
   "execution_count": null,
   "metadata": {},
   "outputs": [],
   "source": [
    "multicollinearity, V=np.linalg.eig(corr)\n",
    "multicollinearity"
   ]
  },
  {
   "cell_type": "markdown",
   "metadata": {},
   "source": [
    "None one of the eigenvalues of the correlation matrix is close to zero. It means that there is no multicollinearity exists in the data."
   ]
  },
  {
   "cell_type": "code",
   "execution_count": null,
   "metadata": {},
   "outputs": [],
   "source": [
    "from sklearn.linear_model import LinearRegression\n",
    "from sklearn.model_selection import train_test_split\n",
    "from sklearn.metrics import r2_score, mean_squared_error"
   ]
  },
  {
   "cell_type": "code",
   "execution_count": null,
   "metadata": {},
   "outputs": [],
   "source": [
    "x = airbnb_en_df.iloc[:,[2,3,5,6,7,8,9]]\n",
    "y = airbnb_en_df['price']\n",
    "#Getting Test and Training Set\n",
    "x_train,x_test,y_train,y_test=train_test_split(x,y,test_size=.1,random_state=123)"
   ]
  },
  {
   "cell_type": "code",
   "execution_count": null,
   "metadata": {},
   "outputs": [],
   "source": [
    "reg=LinearRegression(normalize = True)\n",
    "reg.fit(x_train,y_train)"
   ]
  },
  {
   "cell_type": "code",
   "execution_count": null,
   "metadata": {},
   "outputs": [],
   "source": [
    "y_pred=reg.predict(x_test)\n",
    "r2_score(y_test,y_pred)"
   ]
  },
  {
   "cell_type": "markdown",
   "metadata": {},
   "source": [
    "#### ummm, why not a good fit ?"
   ]
  },
  {
   "cell_type": "code",
   "execution_count": null,
   "metadata": {},
   "outputs": [],
   "source": [
    "from scipy.stats import norm\n",
    "plt.figure(figsize=(10,10))\n",
    "sns.distplot(airbnb_df['price'], fit=norm)\n",
    "plt.title(\"Price Distribution Plot\",size=15, weight='bold')"
   ]
  },
  {
   "cell_type": "code",
   "execution_count": null,
   "metadata": {},
   "outputs": [],
   "source": [
    "airbnb_en_df['price_log'] = np.log(airbnb_en_df.price+1)\n",
    "sns.distplot(airbnb_en_df['price_log'], fit=norm)"
   ]
  },
  {
   "cell_type": "code",
   "execution_count": null,
   "metadata": {},
   "outputs": [],
   "source": [
    "x = airbnb_en_df.iloc[:,[2,3,5,6,7,8,9]]\n",
    "y = airbnb_en_df['price_log']\n",
    "#Getting Test and Training Set\n",
    "x_train,x_test,y_train,y_test=train_test_split(x,y,test_size=.1,random_state=353)"
   ]
  },
  {
   "cell_type": "code",
   "execution_count": null,
   "metadata": {},
   "outputs": [],
   "source": [
    "reg=LinearRegression(normalize = True)\n",
    "reg.fit(x_train,y_train)"
   ]
  },
  {
   "cell_type": "code",
   "execution_count": null,
   "metadata": {},
   "outputs": [],
   "source": [
    "y_pred=reg.predict(x_test)"
   ]
  },
  {
   "cell_type": "code",
   "execution_count": null,
   "metadata": {},
   "outputs": [],
   "source": [
    "from sklearn.metrics import r2_score\n",
    "r2_score(y_test,y_pred)"
   ]
  },
  {
   "cell_type": "markdown",
   "metadata": {},
   "source": [
    "### Polynomial Regression"
   ]
  },
  {
   "cell_type": "code",
   "execution_count": null,
   "metadata": {},
   "outputs": [],
   "source": [
    "from sklearn.preprocessing import PolynomialFeatures\n",
    "from sklearn.pipeline import make_pipeline\n",
    "from sklearn.linear_model import LinearRegression\n",
    "degree=2\n",
    "polyreg=make_pipeline(PolynomialFeatures(degree),LinearRegression())\n",
    "polyreg.fit(x_train,y_train)"
   ]
  },
  {
   "cell_type": "code",
   "execution_count": null,
   "metadata": {},
   "outputs": [],
   "source": [
    "y_pred=polyreg.predict(x_test)"
   ]
  },
  {
   "cell_type": "code",
   "execution_count": null,
   "metadata": {},
   "outputs": [],
   "source": [
    "from sklearn.metrics import r2_score\n",
    "r2_score(y_test,y_pred)"
   ]
  },
  {
   "cell_type": "markdown",
   "metadata": {},
   "source": [
    "## Conclusion\n",
    "In this notebook, I try to make predictions with different Regression models. In the next workshop, we will use large dataset to illustrate classification algorithms."
   ]
  }
 ],
 "metadata": {
  "kernelspec": {
   "display_name": "Python 3",
   "language": "python",
   "name": "python3"
  },
  "language_info": {
   "codemirror_mode": {
    "name": "ipython",
    "version": 3
   },
   "file_extension": ".py",
   "mimetype": "text/x-python",
   "name": "python",
   "nbconvert_exporter": "python",
   "pygments_lexer": "ipython3",
   "version": "3.6.8"
  }
 },
 "nbformat": 4,
 "nbformat_minor": 4
}
