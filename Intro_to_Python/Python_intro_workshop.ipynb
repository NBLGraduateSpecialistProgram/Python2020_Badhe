{
 "cells": [
  {
   "cell_type": "markdown",
   "metadata": {
    "id": "XQ-0pFf5oB_3"
   },
   "source": [
    "## Python Intro"
   ]
  },
  {
   "cell_type": "markdown",
   "metadata": {
    "id": "MifxXuQ3oB_4"
   },
   "source": [
    "Before we begin, let's cover a few basics about Jupyter (also known as iPython) notebooks. To run the cell, and go to the next cell, press Shift+Enter. If you want to run the cell without advancing to the next, press Ctrl+Enter.\n",
    "\n",
    " IPython is the interactive control panel "
   ]
  },
  {
   "cell_type": "markdown",
   "metadata": {
    "id": "GB0Ss-LEoB_6"
   },
   "source": [
    "### Variable assignment, basic calculations, and data types"
   ]
  },
  {
   "cell_type": "code",
   "execution_count": null,
   "metadata": {
    "colab": {
     "base_uri": "https://localhost:8080/"
    },
    "id": "WTew5nazoB_7",
    "outputId": "b45845a2-a511-43ea-d4ce-9dee47490995"
   },
   "outputs": [],
   "source": [
    "# This is a comment. Comments will not appear in the output when a cell is run.\n",
    "\n",
    "a = 45    # assigning the value 45 to the letter \"a\"\n",
    "print(a)"
   ]
  },
  {
   "cell_type": "markdown",
   "metadata": {
    "id": "7G-fBmPQoCAB"
   },
   "source": [
    "As you may have guessed, the `print()` function displays the value of the argument that's passed to it (e.g. whatever is inside the parentheses)."
   ]
  },
  {
   "cell_type": "code",
   "execution_count": null,
   "metadata": {
    "colab": {
     "base_uri": "https://localhost:8080/"
    },
    "id": "01NzlHx6oCAC",
    "outputId": "9bc0acd6-266d-4e9c-b407-f60e70f68a98"
   },
   "outputs": [],
   "source": [
    "# Let's assign a couple more variables \n",
    "b = 12\n",
    "c = a + b\n",
    "print(c)"
   ]
  },
  {
   "cell_type": "code",
   "execution_count": null,
   "metadata": {
    "colab": {
     "base_uri": "https://localhost:8080/"
    },
    "id": "2HIZgQ0goCAI",
    "outputId": "4fa8b1be-b8fd-4075-c113-018b5a45e8ab"
   },
   "outputs": [],
   "source": [
    "# Let's increment \"c\" by 2\n",
    "## you can add multiples commas and different type of datatype and print function will work\n",
    "\n",
    "print('c =', c)\n",
    "c = c + 2\n",
    "print('c + 2 =', c)"
   ]
  },
  {
   "cell_type": "markdown",
   "metadata": {
    "id": "HdhCUBAnoCAM"
   },
   "source": [
    "Try running the previous cell again. What happens?"
   ]
  },
  {
   "cell_type": "code",
   "execution_count": null,
   "metadata": {
    "colab": {
     "base_uri": "https://localhost:8080/"
    },
    "id": "zBltSHoBoCAN",
    "outputId": "b39a19fa-628d-4fc6-c92d-b73383bd78e0"
   },
   "outputs": [],
   "source": [
    "# Another useful method to increment\n",
    "\n",
    "print('c =', c)\n",
    "c += 2\n",
    "print('Now c =', c)"
   ]
  },
  {
   "cell_type": "markdown",
   "metadata": {
    "id": "30vJupL7oCAR"
   },
   "source": [
    "Decrementing works similarly (the operator is `-=`)\n",
    "Other useful operations:\n",
    "\n",
    "- subtraction: `a - b`\n",
    "- multiplication: `a * b`\n",
    "- division: `a / b`\n",
    "- floor division (the integer part, or quotient, of a division operation): `a // b`\n",
    "- modulo (remainder): `a % b`"
   ]
  },
  {
   "cell_type": "code",
   "execution_count": null,
   "metadata": {
    "colab": {
     "base_uri": "https://localhost:8080/"
    },
    "id": "8KeZelwioCAS",
    "outputId": "642a3ce2-086b-4e53-8006-d05a6a79cf49"
   },
   "outputs": [],
   "source": [
    "# Some of the above in action\n",
    "print('a', a)\n",
    "print('b', b)\n",
    "div = a/b\n",
    "print('a / b is', div)\n",
    "floor = a//b\n",
    "##floor function is used to return the closest integer value which is less than or equal to the specified expression or Value.\n",
    "print('a // b is', floor)\n",
    "mod = a%b\n",
    "print('a % b is', mod)"
   ]
  },
  {
   "cell_type": "markdown",
   "metadata": {
    "id": "k1iiPiQzoCAa"
   },
   "source": [
    "So far, you've seen three data types: strings, integers, and floats. We can use the function `type()` to find out what data type a value or variable represents."
   ]
  },
  {
   "cell_type": "code",
   "execution_count": null,
   "metadata": {
    "colab": {
     "base_uri": "https://localhost:8080/"
    },
    "id": "nDIxMPxVoCAf",
    "outputId": "49007a04-2ab2-40fb-a001-80e92cc9c36a"
   },
   "outputs": [],
   "source": [
    "type(3.75)      # this is a float\n",
    "#A float is a floating-point number, which means it is a number that has a decimal place. "
   ]
  },
  {
   "cell_type": "code",
   "execution_count": null,
   "metadata": {
    "colab": {
     "base_uri": "https://localhost:8080/"
    },
    "id": "TVQ7Vp6MoCAn",
    "outputId": "6a443de0-914a-4a18-dc2a-be01eb85a77c"
   },
   "outputs": [],
   "source": [
    "type(3)     # this is an integer\n",
    "# A string is a sequence of characters"
   ]
  },
  {
   "cell_type": "code",
   "execution_count": null,
   "metadata": {
    "colab": {
     "base_uri": "https://localhost:8080/"
    },
    "id": "lxFDEf6woCAr",
    "outputId": "c1d034e0-3a83-4bd1-e717-819ba5016774",
    "scrolled": true
   },
   "outputs": [],
   "source": [
    "type('This is a string.')      # this is a string"
   ]
  },
  {
   "cell_type": "code",
   "execution_count": null,
   "metadata": {
    "colab": {
     "base_uri": "https://localhost:8080/"
    },
    "id": "UU_Kl_cRoCAv",
    "outputId": "ff190524-0f56-4fee-bf98-786aa75c099b"
   },
   "outputs": [],
   "source": [
    "type(\"This is also a string.\")     # double quotes or single quotes can be used"
   ]
  },
  {
   "cell_type": "markdown",
   "metadata": {
    "id": "9nGLu9f8oCAz"
   },
   "source": [
    "The `math` module is part of the standard library and has a lot of useful functions. To use it, we need to import it into this notebook."
   ]
  },
  {
   "cell_type": "code",
   "execution_count": null,
   "metadata": {
    "colab": {
     "base_uri": "https://localhost:8080/"
    },
    "id": "RlFBW4GSoCA0",
    "outputId": "fd5a2384-db24-4a59-a00b-9029448dfd06"
   },
   "outputs": [],
   "source": [
    "import math\n",
    "\n",
    "math.sqrt(9)"
   ]
  },
  {
   "cell_type": "code",
   "execution_count": null,
   "metadata": {
    "colab": {
     "base_uri": "https://localhost:8080/"
    },
    "id": "CKyePilooCA3",
    "outputId": "03729a0a-d3b2-4021-f29e-6576afec4d53"
   },
   "outputs": [],
   "source": [
    "math.pi"
   ]
  },
  {
   "cell_type": "markdown",
   "metadata": {
    "id": "jI94o3DMoCA7"
   },
   "source": [
    "To learn more about the various functions belonging to the `math` module, call the `help()` function on it. Alternatively, you can read the online documentation for this module here: https://docs.python.org/3/library/math.html. This applies to any module, class, function, etc. that you may want more information on."
   ]
  },
  {
   "cell_type": "code",
   "execution_count": null,
   "metadata": {
    "id": "P4dMWyYLoCA8"
   },
   "outputs": [],
   "source": [
    "## explain about specific function in a package\n",
    "\n",
    "help(math)"
   ]
  },
  {
   "cell_type": "markdown",
   "metadata": {
    "collapsed": true,
    "id": "_6zVQWrPoCBB"
   },
   "source": [
    "To convert a number from a float into an integer, use the function `int()`:"
   ]
  },
  {
   "cell_type": "code",
   "execution_count": null,
   "metadata": {
    "colab": {
     "base_uri": "https://localhost:8080/"
    },
    "id": "03rse1paoCBC",
    "outputId": "3abe2e40-0173-42b5-b47b-a1a8b9249d66",
    "scrolled": true
   },
   "outputs": [],
   "source": [
    "# casting of integer to string\n",
    "\n",
    "a = int(6.0)\n",
    "type(a)"
   ]
  },
  {
   "cell_type": "markdown",
   "metadata": {
    "id": "uT73mT46oCBP"
   },
   "source": [
    "What if we have a number in string format?"
   ]
  },
  {
   "cell_type": "code",
   "execution_count": null,
   "metadata": {
    "colab": {
     "base_uri": "https://localhost:8080/",
     "height": 197
    },
    "id": "Yod9_lBAoCBQ",
    "outputId": "6b79bc8b-a863-448b-fa5d-31232fc2e6c4"
   },
   "outputs": [],
   "source": [
    "# This doesn't work\n",
    "\n",
    "'6.5'+7"
   ]
  },
  {
   "cell_type": "code",
   "execution_count": null,
   "metadata": {
    "colab": {
     "base_uri": "https://localhost:8080/"
    },
    "id": "G0PIfGJPoCBU",
    "outputId": "8c04ca1d-e2ea-4d93-9af8-9f45c463d4dd"
   },
   "outputs": [],
   "source": [
    "# This works\n",
    "\n",
    "float('6.5')+7"
   ]
  },
  {
   "cell_type": "markdown",
   "metadata": {
    "id": "qloh42CYoCBZ"
   },
   "source": [
    "If we want to convert an integer or float to a string, we can use the function `str()`:"
   ]
  },
  {
   "cell_type": "code",
   "execution_count": null,
   "metadata": {
    "colab": {
     "base_uri": "https://localhost:8080/",
     "height": 35
    },
    "id": "btTmE_ZpoCBc",
    "outputId": "7eb79242-e36d-44ee-9d1a-d1ff526925ec"
   },
   "outputs": [],
   "source": [
    "str(100)"
   ]
  },
  {
   "cell_type": "markdown",
   "metadata": {
    "id": "Bpa84AAAoCBr"
   },
   "source": [
    "### Strings: cleaning and manipulation"
   ]
  },
  {
   "cell_type": "markdown",
   "metadata": {
    "id": "PuIpsR1RoCBt"
   },
   "source": [
    "Indexing in Python starts from 0. That means that the first element of any string, list, array, etc. is actually considered to be element # 0."
   ]
  },
  {
   "cell_type": "code",
   "execution_count": null,
   "metadata": {
    "id": "EHzvV3O9oCBu"
   },
   "outputs": [],
   "source": [
    "myString = 'Rutgers is one of the top 10 oldest colleges in the U.S.'"
   ]
  },
  {
   "cell_type": "markdown",
   "metadata": {
    "id": "jIMoLNZuoCBz"
   },
   "source": [
    "Accessing characters in the string:"
   ]
  },
  {
   "cell_type": "code",
   "execution_count": null,
   "metadata": {
    "colab": {
     "base_uri": "https://localhost:8080/",
     "height": 35
    },
    "id": "IOOCnUtLoCB0",
    "outputId": "dfc860d1-b2b1-4ed2-8d90-a201a591673c"
   },
   "outputs": [],
   "source": [
    "myString[0]"
   ]
  },
  {
   "cell_type": "code",
   "execution_count": null,
   "metadata": {
    "colab": {
     "base_uri": "https://localhost:8080/",
     "height": 35
    },
    "id": "VfdqJrQ0oCB3",
    "outputId": "7153a544-10ab-4b9f-824e-13bab93b131a"
   },
   "outputs": [],
   "source": [
    "myString[1]"
   ]
  },
  {
   "cell_type": "markdown",
   "metadata": {
    "id": "NKpiknswoCB8"
   },
   "source": [
    "You can also access characters with reference to the end of the string:"
   ]
  },
  {
   "cell_type": "code",
   "execution_count": null,
   "metadata": {
    "colab": {
     "base_uri": "https://localhost:8080/",
     "height": 35
    },
    "id": "dMKK4XEeoCB9",
    "outputId": "a794c541-1c6c-4fa7-fee9-7780464fd9a5"
   },
   "outputs": [],
   "source": [
    "myString[-1]"
   ]
  },
  {
   "cell_type": "code",
   "execution_count": null,
   "metadata": {
    "colab": {
     "base_uri": "https://localhost:8080/",
     "height": 35
    },
    "id": "SxastzlCoCCA",
    "outputId": "834c789c-561d-4c6b-e472-1100d888c777"
   },
   "outputs": [],
   "source": [
    "myString[-2]"
   ]
  },
  {
   "cell_type": "markdown",
   "metadata": {
    "id": "HGg2RESooCCC"
   },
   "source": [
    "To access larger portions (called \"slices\") of the string, we can use the following syntax: $string[startIndex:endIndex:stepSize]$. The string returned will start from the character at index $startIndex$, but it will end with the character at index $endIndex-1$. If not specified, $stepSize$ = 1, $startIndex$ = 0, and $endIndex$ = one beyond the last index.\n",
    "For example,"
   ]
  },
  {
   "cell_type": "code",
   "execution_count": null,
   "metadata": {
    "colab": {
     "base_uri": "https://localhost:8080/",
     "height": 35
    },
    "id": "41GI_6MpoCCD",
    "outputId": "a6bddf41-d5fc-4515-a18a-9ee677bf38cf"
   },
   "outputs": [],
   "source": [
    "myString[5:11]"
   ]
  },
  {
   "cell_type": "code",
   "execution_count": null,
   "metadata": {
    "colab": {
     "base_uri": "https://localhost:8080/",
     "height": 35
    },
    "id": "iHlICgAqoCCL",
    "outputId": "dd62fbac-eee6-42d9-d235-df0ef267cb99"
   },
   "outputs": [],
   "source": [
    "myString[1:11:2]"
   ]
  },
  {
   "cell_type": "code",
   "execution_count": null,
   "metadata": {
    "colab": {
     "base_uri": "https://localhost:8080/",
     "height": 35
    },
    "id": "VRbo3m1KoCCP",
    "outputId": "08f28bed-f4cc-4d3b-8ea5-16b814a686c5"
   },
   "outputs": [],
   "source": [
    "myString[:11]"
   ]
  },
  {
   "cell_type": "code",
   "execution_count": null,
   "metadata": {
    "colab": {
     "base_uri": "https://localhost:8080/",
     "height": 35
    },
    "id": "nh0diirBoCCV",
    "outputId": "a63dcf1c-3d08-4484-c2d2-6ad4db75834c"
   },
   "outputs": [],
   "source": [
    "myString[11:]"
   ]
  },
  {
   "cell_type": "code",
   "execution_count": null,
   "metadata": {
    "colab": {
     "base_uri": "https://localhost:8080/",
     "height": 35
    },
    "id": "7QTpBEv1oCCb",
    "outputId": "30b41d10-b187-4645-a554-e36a931e2a49"
   },
   "outputs": [],
   "source": [
    "myString[:]"
   ]
  },
  {
   "cell_type": "markdown",
   "metadata": {
    "id": "q8nB2NMioCCj"
   },
   "source": [
    "Let's look at other useful string operations."
   ]
  },
  {
   "cell_type": "code",
   "execution_count": null,
   "metadata": {
    "colab": {
     "base_uri": "https://localhost:8080/"
    },
    "id": "raJxOP2zoCCk",
    "outputId": "bfb9e36e-5ddc-47d5-d58b-a338dc5bc66b"
   },
   "outputs": [],
   "source": [
    "# How long is the string?\n",
    "\n",
    "len(myString)"
   ]
  },
  {
   "cell_type": "code",
   "execution_count": null,
   "metadata": {
    "colab": {
     "base_uri": "https://localhost:8080/"
    },
    "id": "nC-wDyp2oCCm",
    "outputId": "2ab6f6f6-f8bc-4f60-c034-21805bf79a98"
   },
   "outputs": [],
   "source": [
    "# Concatenation\n",
    "\n",
    "myString2 = '; it was originally \"Queen\\'s College\".'\n",
    "print(myString + myString2)"
   ]
  },
  {
   "cell_type": "markdown",
   "metadata": {
    "id": "bPdi6mKooCCw"
   },
   "source": [
    "\n",
    "\n",
    "There's a lot you can do with strings! Let's go through a few useful methods:"
   ]
  },
  {
   "cell_type": "code",
   "execution_count": null,
   "metadata": {
    "colab": {
     "base_uri": "https://localhost:8080/",
     "height": 35
    },
    "id": "vWocCWfToCCw",
    "outputId": "a9baffc9-2830-4848-efd6-b121b38a31b0"
   },
   "outputs": [],
   "source": [
    "# Converting to all lower case\n",
    "\n",
    "new = 'RU'\n",
    "new.lower()"
   ]
  },
  {
   "cell_type": "code",
   "execution_count": null,
   "metadata": {
    "colab": {
     "base_uri": "https://localhost:8080/"
    },
    "id": "JMkCLFbioCDH",
    "outputId": "f2297441-69c3-4ca4-ae96-61896e74ea44"
   },
   "outputs": [],
   "source": [
    "# Finding the first position(index) of a character \n",
    "v = '...Alice twisted her ankle playing basketball on Saturday...'\n",
    "v.find('l')"
   ]
  },
  {
   "cell_type": "code",
   "execution_count": null,
   "metadata": {
    "colab": {
     "base_uri": "https://localhost:8080/"
    },
    "id": "m_nvn3gxoCDM",
    "outputId": "0ce2aa2c-9237-4054-a7bc-ce6d1c2b1089"
   },
   "outputs": [],
   "source": [
    "# str.find() can also be used for a substring; it returns the index of the first character in the substring\n",
    "\n",
    "v.find('Alice')"
   ]
  },
  {
   "cell_type": "code",
   "execution_count": null,
   "metadata": {
    "colab": {
     "base_uri": "https://localhost:8080/",
     "height": 35
    },
    "id": "6HZqva-PoCDP",
    "outputId": "c79e5c04-0a5d-43ea-dccd-1b3e8f132c08"
   },
   "outputs": [],
   "source": [
    "# Replacing all instances of a character or substring\n",
    "\n",
    "y = 'Day 1: Prep. Day 2: Execute. Day 3: Review.'\n",
    "y.replace('Day ', '')"
   ]
  },
  {
   "cell_type": "markdown",
   "metadata": {
    "collapsed": true,
    "id": "s40R600soCD0"
   },
   "source": [
    "### Lists: working with a data collection"
   ]
  },
  {
   "cell_type": "markdown",
   "metadata": {
    "id": "6kO9UUSWoCD1"
   },
   "source": [
    "Many of the operations we used with strings can be applied to lists as well, including\n",
    "- indexing\n",
    "- slicing\n",
    "- finding the length\n",
    "- concatenation"
   ]
  },
  {
   "cell_type": "code",
   "execution_count": null,
   "metadata": {
    "colab": {
     "base_uri": "https://localhost:8080/"
    },
    "id": "7UVSHSW5oCD2",
    "outputId": "90e509bc-2885-4302-c305-f3afa72794db"
   },
   "outputs": [],
   "source": [
    "# Creating a list of the top 40 U.S. cities by population\n",
    "\n",
    "topcities = ['New York', 'Los Angeles', 'Chicago', 'Houston', 'Philadelphia', 'Phoenix', 'San Antonio', 'San Diego',\n",
    "         'Dallas', 'San Jose', 'Austin', 'Jacksonville', 'San Francisco', 'Indianapolis', 'Columbus', 'Fort Worth',\n",
    "         'Charlotte', 'Seattle', 'Denver', 'El Paso', 'Detroit', 'Washington', 'Boston', 'Memphis', 'Nashville', 'Portland',\n",
    "         'Oklahoma City', 'Las Vegas', 'Baltimore', 'Louisville', 'Milwaukee', 'Albuquerque', 'Tucson', 'Fresno', 'Sacramento',\n",
    "         'Kansas City', 'Long Beach', 'Mesa', 'Atlanta', 'Colorado Springs']\n",
    "print(topcities)"
   ]
  },
  {
   "cell_type": "code",
   "execution_count": null,
   "metadata": {
    "colab": {
     "base_uri": "https://localhost:8080/",
     "height": 35
    },
    "id": "YlQxuK74oCD4",
    "outputId": "02e40b81-32ad-4c62-b1ad-015c7e8b0fda"
   },
   "outputs": [],
   "source": [
    "# Which is the 5th most populous city?\n",
    "\n",
    "topcities[4]"
   ]
  },
  {
   "cell_type": "code",
   "execution_count": null,
   "metadata": {
    "colab": {
     "base_uri": "https://localhost:8080/"
    },
    "id": "abCT57pqoCD7",
    "outputId": "f7597145-04b8-41d5-e2c5-363a46a8045d"
   },
   "outputs": [],
   "source": [
    "# Which cities are ranked #11-#20?\n",
    "\n",
    "topcities[10:20]"
   ]
  },
  {
   "cell_type": "code",
   "execution_count": null,
   "metadata": {
    "colab": {
     "base_uri": "https://localhost:8080/"
    },
    "id": "OXY0zGhkoCD_",
    "outputId": "ebb1c8ed-50bd-43e8-c592-f29196c76384"
   },
   "outputs": [],
   "source": [
    "# Are there really 40 cities in the list?\n",
    "\n",
    "len(topcities)"
   ]
  },
  {
   "cell_type": "code",
   "execution_count": null,
   "metadata": {
    "colab": {
     "base_uri": "https://localhost:8080/"
    },
    "id": "9ZkK6o6hoCEC",
    "outputId": "b901e4ec-5019-4b27-dd6a-1f804ef15aef"
   },
   "outputs": [],
   "source": [
    "# Let's add the next 5 cities to topcities\n",
    "\n",
    "cities41to45 = ['Virginia Beach', 'Raleigh', 'Omaha', 'Miami', 'Oakland']\n",
    "topcities + cities41to45"
   ]
  },
  {
   "cell_type": "markdown",
   "metadata": {
    "id": "wGDB33z3oCEE"
   },
   "source": [
    "However, **lists, unlike strings, are mutable** - their identities can be changed in-place without creating a new list."
   ]
  },
  {
   "cell_type": "code",
   "execution_count": null,
   "metadata": {
    "colab": {
     "base_uri": "https://localhost:8080/"
    },
    "id": "UBMtD9AroCEF",
    "outputId": "6d76de45-fc56-4332-daff-eb7006f0c94a"
   },
   "outputs": [],
   "source": [
    "# Another way to add multiple items to the list is to use the \"extend\" method\n",
    "\n",
    "topcities.extend(cities41to45)\n",
    "len(topcities)\n",
    "#print(topcities)"
   ]
  },
  {
   "cell_type": "code",
   "execution_count": null,
   "metadata": {
    "colab": {
     "base_uri": "https://localhost:8080/"
    },
    "id": "gtpkhg5roCEK",
    "outputId": "42dea854-ee44-4fac-81c2-62ee51e3a9d7"
   },
   "outputs": [],
   "source": [
    "# You can also add items one at a time using the \"append\" method\n",
    "\n",
    "topcities.append('Minneapolis')\n",
    "topcities[-2:]   # let's just look at the end of the list"
   ]
  },
  {
   "cell_type": "code",
   "execution_count": null,
   "metadata": {
    "colab": {
     "base_uri": "https://localhost:8080/"
    },
    "id": "eup1m9CBoCEO",
    "outputId": "8bba505a-ebe8-41f0-f0a9-c28575ee5c13"
   },
   "outputs": [],
   "source": [
    "# Is Orlando in the list?\n",
    "\n",
    "'Orlando' in topcities"
   ]
  },
  {
   "cell_type": "code",
   "execution_count": null,
   "metadata": {
    "colab": {
     "base_uri": "https://localhost:8080/"
    },
    "id": "aPrKf73ZoCEQ",
    "outputId": "533155c7-c4bf-4791-c124-947276e61b66"
   },
   "outputs": [],
   "source": [
    "# Is Dallas in the list?\n",
    "\n",
    "'Dallas' in topcities"
   ]
  },
  {
   "cell_type": "code",
   "execution_count": null,
   "metadata": {
    "colab": {
     "base_uri": "https://localhost:8080/"
    },
    "id": "thwR1Oz1oCEY",
    "outputId": "fffd3c61-488f-42ac-a287-fee6042d720a"
   },
   "outputs": [],
   "source": [
    "# Which position is Dallas in?\n",
    "\n",
    "topcities.index('Dallas')"
   ]
  },
  {
   "cell_type": "code",
   "execution_count": null,
   "metadata": {
    "colab": {
     "base_uri": "https://localhost:8080/"
    },
    "id": "F2G_7sPCoCEa",
    "outputId": "7887c764-f415-4764-d629-649cdbd59226"
   },
   "outputs": [],
   "source": [
    "# Let's get the list in alphabetical order\n",
    "\n",
    "topcities.sort()\n",
    "topcities[:10]   # just looking at the first 10 to verify sorting"
   ]
  },
  {
   "cell_type": "code",
   "execution_count": null,
   "metadata": {
    "colab": {
     "base_uri": "https://localhost:8080/"
    },
    "id": "n1xL0C2woCEg",
    "outputId": "bf1d6dff-a894-45d7-f1f6-20051dc79e5f"
   },
   "outputs": [],
   "source": [
    "# Sorting also works on numbers\n",
    "\n",
    "newList = [3,53,7,768,7,4,563]\n",
    "newList.sort()\n",
    "newList"
   ]
  },
  {
   "cell_type": "markdown",
   "metadata": {
    "id": "xi-FRch4oCEi"
   },
   "source": [
    "You can even create a list of lists."
   ]
  },
  {
   "cell_type": "code",
   "execution_count": null,
   "metadata": {
    "colab": {
     "base_uri": "https://localhost:8080/"
    },
    "id": "YvQn0FH9oCEj",
    "outputId": "76999613-a8dc-474b-b2d5-78da79db7964"
   },
   "outputs": [],
   "source": [
    "# Indexing with a list of lists\n",
    "\n",
    "nestedList = [[1,2,3],[2,4,6],[3,6,9],[4,8,12]]\n",
    "print(nestedList[0])"
   ]
  },
  {
   "cell_type": "code",
   "execution_count": null,
   "metadata": {
    "colab": {
     "base_uri": "https://localhost:8080/"
    },
    "id": "yD2buLAIoCEm",
    "outputId": "c8fcf2f2-fcda-4089-8a09-722cffd6f3b8"
   },
   "outputs": [],
   "source": [
    "# Accessing a single element in a sublist\n",
    "\n",
    "print(nestedList[0][2])"
   ]
  },
  {
   "cell_type": "code",
   "execution_count": null,
   "metadata": {
    "colab": {
     "base_uri": "https://localhost:8080/"
    },
    "id": "pSoKfitLoCEq",
    "outputId": "83eb988d-3408-4ed5-ebaf-b66c6d33ab08"
   },
   "outputs": [],
   "source": [
    "# Slicing\n",
    "\n",
    "print(nestedList[:2])"
   ]
  },
  {
   "cell_type": "markdown",
   "metadata": {
    "id": "gT7o2aIPoCEt"
   },
   "source": [
    "There's a lot you can do with lists. A brief overview can be found here: https://www.tutorialspoint.com/python/python_lists.htm; full documentation can be found at the official Python documentation page."
   ]
  },
  {
   "cell_type": "markdown",
   "metadata": {
    "id": "gcJbnUH-TeWu"
   },
   "source": [
    "## Now the real fun begins...\n",
    "Before we start playing with data files, we need to cover one more really important section.\n",
    "### Loops, conditionals, and functions\n",
    "If you have used a progamming language before, you're probably familiar with the for-loop. For everyone else, a for-loop is a way of iterating through a data structure - a string, a list, a dictionary, etc. - or file. It's a way to execute the same piece of code multiple times with a parameter being updated on every iteration.\n",
    "What is data structure? In computer science, a data structure is a data organization, management, and storage format that enables efficient access and modification. "
   ]
  },
  {
   "cell_type": "code",
   "execution_count": null,
   "metadata": {
    "colab": {
     "base_uri": "https://localhost:8080/"
    },
    "id": "oCEmDNmdTmyb",
    "outputId": "4c3c634d-49f8-415e-a58f-0f19d3cb0d49"
   },
   "outputs": [],
   "source": [
    "# The go-to first example of a for-loop\n",
    "\n",
    "for i in [1, 2, 3, 4, 5, 6, 7, 8, 9, 10]:\n",
    "    print(i)"
   ]
  },
  {
   "cell_type": "markdown",
   "metadata": {
    "id": "6XkbX0mhTx3L"
   },
   "source": [
    "The `range()` function is useful here. It can be given up to three parameters: $([start], stop, [step])$ (brackets indicate optional parameters). As with slicing in strings and lists, the loop will stop at $stop-1$."
   ]
  },
  {
   "cell_type": "code",
   "execution_count": null,
   "metadata": {
    "colab": {
     "base_uri": "https://localhost:8080/"
    },
    "id": "Q5dLuaW2T9TM",
    "outputId": "ebfd6e9a-c872-40da-b488-9316a716448f"
   },
   "outputs": [],
   "source": [
    "# Do the above more efficiently using the \"range\" function:\n",
    "## End at stop-1\n",
    "\n",
    "for i in range(1,11, 2):\n",
    "    print(i)"
   ]
  },
  {
   "cell_type": "markdown",
   "metadata": {
    "id": "cM59h0C4UYuD"
   },
   "source": [
    "You may be wondering why we chose the letter \"i\" to iterate through the lists above. The answer is that it's just convention - letters like \"i\" and \"j\" are often used for iteration, but in practice, you can use any letters, letter + number combinations, or even an underscore."
   ]
  },
  {
   "cell_type": "markdown",
   "metadata": {
    "id": "vJUbSvDMUfI4"
   },
   "source": [
    "One common use of a for-loop is to iteratively append elements to a list."
   ]
  },
  {
   "cell_type": "code",
   "execution_count": null,
   "metadata": {
    "colab": {
     "base_uri": "https://localhost:8080/"
    },
    "id": "NR8U6RaZUPZN",
    "outputId": "2bed4bb6-d0f9-4b00-8b06-ad4e7ef84c52"
   },
   "outputs": [],
   "source": [
    "# What are the first ten multiples of 3?\n",
    "\n",
    "multiples = []    # initializing list\n",
    "for i in range(1,11):\n",
    "    multiples.append(3*i)\n",
    "\n",
    "print(multiples)"
   ]
  },
  {
   "cell_type": "markdown",
   "metadata": {
    "id": "RMFPjy9qU55x"
   },
   "source": [
    "As you begin writing more complex code, you may find it helpful to use this step-by-step visualization tool: http://pythontutor.com/visualize.html#. (DEMO)"
   ]
  },
  {
   "cell_type": "markdown",
   "metadata": {
    "id": "F6WmoQzhWCfP"
   },
   "source": [
    "What if we want to control what code gets executed based on certain conditions? That's where conditional statements come in. Let's look at some operators you'll likely use:"
   ]
  },
  {
   "cell_type": "code",
   "execution_count": null,
   "metadata": {
    "colab": {
     "base_uri": "https://localhost:8080/"
    },
    "id": "YfrQrsmBWGWQ",
    "outputId": "e18ccb8b-e655-4b06-ebb2-7c2ec5f4d385"
   },
   "outputs": [],
   "source": [
    "print(3 < 4)    # less than"
   ]
  },
  {
   "cell_type": "markdown",
   "metadata": {
    "id": "k5LHvyijW3tJ"
   },
   "source": [
    "The return values of True/False are called \"Booleans\". These are actual values that can be assigned to a variable:"
   ]
  },
  {
   "cell_type": "code",
   "execution_count": null,
   "metadata": {
    "colab": {
     "base_uri": "https://localhost:8080/"
    },
    "id": "YIlt-1dZW7Uk",
    "outputId": "a2879667-a4e8-40cc-e7b2-dfe7a02c7f7d"
   },
   "outputs": [],
   "source": [
    "var = True\n",
    "new_var = False\n",
    "\n",
    "print('var:', var, '\\nnew_var:', new_var)"
   ]
  },
  {
   "cell_type": "markdown",
   "metadata": {
    "id": "gWNCOna6XGdf"
   },
   "source": [
    "In Part 1, we saw another case where the result was a Boolean; we were checking if \"Orlando\" was in the $topcities$ list. The `in` and `not in` membership checks return True or False.``"
   ]
  },
  {
   "cell_type": "markdown",
   "metadata": {
    "id": "3rpoTV5iXKY5"
   },
   "source": [
    "Now, we can implement some of these comparisons in what's called an if-else statement. The gist of it is this: if {some condition}, execute some code; for all other cases, execute some other code."
   ]
  },
  {
   "cell_type": "code",
   "execution_count": null,
   "metadata": {
    "colab": {
     "base_uri": "https://localhost:8080/"
    },
    "id": "iEozDowNXNAq",
    "outputId": "c7862580-39c5-418f-e591-8d36dcdbca88"
   },
   "outputs": [],
   "source": [
    "# On which days could we potentially have a picnic?\n",
    "\n",
    "forecast7Day = ['rain', 'mostly cloudy', 'rain', 'mostly cloudy', 'sunny', 'partly cloudy', 'rain']\n",
    "picnic = []\n",
    "for i in forecast7Day:\n",
    "    if i == 'rain':\n",
    "        picnic.append('no')\n",
    "    else:\n",
    "        picnic.append('yes')\n",
    "        \n",
    "print(picnic)"
   ]
  },
  {
   "cell_type": "markdown",
   "metadata": {
    "id": "xjSPeQusXq90"
   },
   "source": [
    "One last type of control structure - the while-loop. The general structure is the following: while {some condition}, execute some code. Iteration will continue until that condition is no longer true."
   ]
  },
  {
   "cell_type": "code",
   "execution_count": null,
   "metadata": {
    "colab": {
     "base_uri": "https://localhost:8080/"
    },
    "id": "vf_nEOyMXtl4",
    "outputId": "41e3895a-f324-4631-b7e3-f23d6a5bf00d"
   },
   "outputs": [],
   "source": [
    "# Using up a gift card\n",
    "\n",
    "balance = 110     # initial balance = $110\n",
    "while balance - 20 >= 0:\n",
    "    print('Your balance is now $' + str(balance))\n",
    "    balance -= 20    # using up $20 for each purchase\n",
    "print('Final balance: $' + str(balance))"
   ]
  },
  {
   "cell_type": "markdown",
   "metadata": {
    "id": "K9jhTPxzX0rq"
   },
   "source": [
    "Finally, functions. Functions are extremely useful for when you want to execute a section of code repeatedly, but with parameters (called \"arguments\") for which values can be defined when the function is called. Functions are defined with `def` and then a user-provided name."
   ]
  },
  {
   "cell_type": "code",
   "execution_count": null,
   "metadata": {
    "id": "HCdhtl5WXzpr"
   },
   "outputs": [],
   "source": [
    "# A function to generalize the gift card code in the previous example\n",
    "\n",
    "def giftCard(init_balance, purchase_size):    # this function has two arguments\n",
    "    balance = init_balance\n",
    "    while balance - purchase_size >= 0:\n",
    "        print('Your balance is now $' + str(balance))\n",
    "        balance -= purchase_size\n",
    "    print( 'Final balance: $' + str(balance))"
   ]
  },
  {
   "cell_type": "markdown",
   "metadata": {
    "id": "yBKPoJgKX8Gm"
   },
   "source": [
    "What happened when you ran the previous cell?\n",
    "\n",
    "In order to use the function, we have to call it."
   ]
  },
  {
   "cell_type": "code",
   "execution_count": null,
   "metadata": {
    "id": "XSwgq6AZX7Pu"
   },
   "outputs": [],
   "source": [
    "# Calling the giftCard function\n",
    "\n",
    "newCard = giftCard(200, 50)    # initial balance = $200, purchase_size = $50\n",
    "print(newCard)"
   ]
  },
  {
   "cell_type": "markdown",
   "metadata": {
    "id": "JsIbrmY2zEqR"
   },
   "source": [
    "Try calling `giftCard()` with different parameters."
   ]
  },
  {
   "cell_type": "markdown",
   "metadata": {
    "id": "LJvSYx-BzEqR"
   },
   "source": [
    "## Numpy Array"
   ]
  },
  {
   "cell_type": "code",
   "execution_count": null,
   "metadata": {
    "id": "CpzwEKCqzEqR"
   },
   "outputs": [],
   "source": [
    "import numpy as np"
   ]
  },
  {
   "cell_type": "code",
   "execution_count": null,
   "metadata": {
    "colab": {
     "base_uri": "https://localhost:8080/"
    },
    "id": "_Z-u3oHMzEqR",
    "outputId": "240b1e96-2889-4984-fcfd-55217ce94899"
   },
   "outputs": [],
   "source": [
    "arr = np.array([1,3,5,7])\n",
    "arr"
   ]
  },
  {
   "cell_type": "markdown",
   "metadata": {
    "id": "H32-yQSDzEqR"
   },
   "source": [
    "Why ndarrays?\n",
    "- efficient vectorized, elementwise operations for homogeneous data (sometimes orders of magnitude faster than in \"pure Python\")\n",
    "- provides foundation for operations in **pandas**"
   ]
  },
  {
   "cell_type": "code",
   "execution_count": null,
   "metadata": {
    "colab": {
     "base_uri": "https://localhost:8080/"
    },
    "id": "K8XbdJJCzEqR",
    "outputId": "cf514dda-f2e6-48e1-c0ab-e82a19cdf942"
   },
   "outputs": [],
   "source": [
    "## Comparision of timing\n",
    "import time\n",
    "import numpy as np\n",
    "\n",
    "size_of_vec = 1000\n",
    "\n",
    "def pure_python_version():\n",
    "    t1 = time.time()\n",
    "    X = range(size_of_vec)\n",
    "    Y = range(size_of_vec)\n",
    "    Z = [X[i] + Y[i] for i in range(len(X)) ]\n",
    "    return time.time() - t1\n",
    "\n",
    "def numpy_version():\n",
    "    t1 = time.time()\n",
    "    X = np.arange(size_of_vec)\n",
    "    Y = np.arange(size_of_vec)\n",
    "    Z = X + Y\n",
    "    return time.time() - t1\n",
    "\n",
    "\n",
    "t1 = pure_python_version()\n",
    "t2 = numpy_version()\n",
    "print(t1, t2)\n",
    "print(\"Numpy is in this example \" + str(t1/t2) + \" faster!\")"
   ]
  },
  {
   "cell_type": "markdown",
   "metadata": {
    "id": "ekMquc6dzEqR"
   },
   "source": [
    "### Creating an ndarray"
   ]
  },
  {
   "cell_type": "code",
   "execution_count": null,
   "metadata": {
    "colab": {
     "base_uri": "https://localhost:8080/"
    },
    "id": "ii5SiKzYzEqR",
    "outputId": "59b4ad51-9870-455e-acfc-e9cceba2cdde"
   },
   "outputs": [],
   "source": [
    "# We already saw this\n",
    "\n",
    "np.array([1,3,5,7])"
   ]
  },
  {
   "cell_type": "code",
   "execution_count": null,
   "metadata": {
    "colab": {
     "base_uri": "https://localhost:8080/",
     "height": 140,
     "resources": {
      "http://localhost:8080/nbextensions/google.colab/files.js": {
       "data": "Ly8gQ29weXJpZ2h0IDIwMTcgR29vZ2xlIExMQwovLwovLyBMaWNlbnNlZCB1bmRlciB0aGUgQXBhY2hlIExpY2Vuc2UsIFZlcnNpb24gMi4wICh0aGUgIkxpY2Vuc2UiKTsKLy8geW91IG1heSBub3QgdXNlIHRoaXMgZmlsZSBleGNlcHQgaW4gY29tcGxpYW5jZSB3aXRoIHRoZSBMaWNlbnNlLgovLyBZb3UgbWF5IG9idGFpbiBhIGNvcHkgb2YgdGhlIExpY2Vuc2UgYXQKLy8KLy8gICAgICBodHRwOi8vd3d3LmFwYWNoZS5vcmcvbGljZW5zZXMvTElDRU5TRS0yLjAKLy8KLy8gVW5sZXNzIHJlcXVpcmVkIGJ5IGFwcGxpY2FibGUgbGF3IG9yIGFncmVlZCB0byBpbiB3cml0aW5nLCBzb2Z0d2FyZQovLyBkaXN0cmlidXRlZCB1bmRlciB0aGUgTGljZW5zZSBpcyBkaXN0cmlidXRlZCBvbiBhbiAiQVMgSVMiIEJBU0lTLAovLyBXSVRIT1VUIFdBUlJBTlRJRVMgT1IgQ09ORElUSU9OUyBPRiBBTlkgS0lORCwgZWl0aGVyIGV4cHJlc3Mgb3IgaW1wbGllZC4KLy8gU2VlIHRoZSBMaWNlbnNlIGZvciB0aGUgc3BlY2lmaWMgbGFuZ3VhZ2UgZ292ZXJuaW5nIHBlcm1pc3Npb25zIGFuZAovLyBsaW1pdGF0aW9ucyB1bmRlciB0aGUgTGljZW5zZS4KCi8qKgogKiBAZmlsZW92ZXJ2aWV3IEhlbHBlcnMgZm9yIGdvb2dsZS5jb2xhYiBQeXRob24gbW9kdWxlLgogKi8KKGZ1bmN0aW9uKHNjb3BlKSB7CmZ1bmN0aW9uIHNwYW4odGV4dCwgc3R5bGVBdHRyaWJ1dGVzID0ge30pIHsKICBjb25zdCBlbGVtZW50ID0gZG9jdW1lbnQuY3JlYXRlRWxlbWVudCgnc3BhbicpOwogIGVsZW1lbnQudGV4dENvbnRlbnQgPSB0ZXh0OwogIGZvciAoY29uc3Qga2V5IG9mIE9iamVjdC5rZXlzKHN0eWxlQXR0cmlidXRlcykpIHsKICAgIGVsZW1lbnQuc3R5bGVba2V5XSA9IHN0eWxlQXR0cmlidXRlc1trZXldOwogIH0KICByZXR1cm4gZWxlbWVudDsKfQoKLy8gTWF4IG51bWJlciBvZiBieXRlcyB3aGljaCB3aWxsIGJlIHVwbG9hZGVkIGF0IGEgdGltZS4KY29uc3QgTUFYX1BBWUxPQURfU0laRSA9IDEwMCAqIDEwMjQ7CgpmdW5jdGlvbiBfdXBsb2FkRmlsZXMoaW5wdXRJZCwgb3V0cHV0SWQpIHsKICBjb25zdCBzdGVwcyA9IHVwbG9hZEZpbGVzU3RlcChpbnB1dElkLCBvdXRwdXRJZCk7CiAgY29uc3Qgb3V0cHV0RWxlbWVudCA9IGRvY3VtZW50LmdldEVsZW1lbnRCeUlkKG91dHB1dElkKTsKICAvLyBDYWNoZSBzdGVwcyBvbiB0aGUgb3V0cHV0RWxlbWVudCB0byBtYWtlIGl0IGF2YWlsYWJsZSBmb3IgdGhlIG5leHQgY2FsbAogIC8vIHRvIHVwbG9hZEZpbGVzQ29udGludWUgZnJvbSBQeXRob24uCiAgb3V0cHV0RWxlbWVudC5zdGVwcyA9IHN0ZXBzOwoKICByZXR1cm4gX3VwbG9hZEZpbGVzQ29udGludWUob3V0cHV0SWQpOwp9CgovLyBUaGlzIGlzIHJvdWdobHkgYW4gYXN5bmMgZ2VuZXJhdG9yIChub3Qgc3VwcG9ydGVkIGluIHRoZSBicm93c2VyIHlldCksCi8vIHdoZXJlIHRoZXJlIGFyZSBtdWx0aXBsZSBhc3luY2hyb25vdXMgc3RlcHMgYW5kIHRoZSBQeXRob24gc2lkZSBpcyBnb2luZwovLyB0byBwb2xsIGZvciBjb21wbGV0aW9uIG9mIGVhY2ggc3RlcC4KLy8gVGhpcyB1c2VzIGEgUHJvbWlzZSB0byBibG9jayB0aGUgcHl0aG9uIHNpZGUgb24gY29tcGxldGlvbiBvZiBlYWNoIHN0ZXAsCi8vIHRoZW4gcGFzc2VzIHRoZSByZXN1bHQgb2YgdGhlIHByZXZpb3VzIHN0ZXAgYXMgdGhlIGlucHV0IHRvIHRoZSBuZXh0IHN0ZXAuCmZ1bmN0aW9uIF91cGxvYWRGaWxlc0NvbnRpbnVlKG91dHB1dElkKSB7CiAgY29uc3Qgb3V0cHV0RWxlbWVudCA9IGRvY3VtZW50LmdldEVsZW1lbnRCeUlkKG91dHB1dElkKTsKICBjb25zdCBzdGVwcyA9IG91dHB1dEVsZW1lbnQuc3RlcHM7CgogIGNvbnN0IG5leHQgPSBzdGVwcy5uZXh0KG91dHB1dEVsZW1lbnQubGFzdFByb21pc2VWYWx1ZSk7CiAgcmV0dXJuIFByb21pc2UucmVzb2x2ZShuZXh0LnZhbHVlLnByb21pc2UpLnRoZW4oKHZhbHVlKSA9PiB7CiAgICAvLyBDYWNoZSB0aGUgbGFzdCBwcm9taXNlIHZhbHVlIHRvIG1ha2UgaXQgYXZhaWxhYmxlIHRvIHRoZSBuZXh0CiAgICAvLyBzdGVwIG9mIHRoZSBnZW5lcmF0b3IuCiAgICBvdXRwdXRFbGVtZW50Lmxhc3RQcm9taXNlVmFsdWUgPSB2YWx1ZTsKICAgIHJldHVybiBuZXh0LnZhbHVlLnJlc3BvbnNlOwogIH0pOwp9CgovKioKICogR2VuZXJhdG9yIGZ1bmN0aW9uIHdoaWNoIGlzIGNhbGxlZCBiZXR3ZWVuIGVhY2ggYXN5bmMgc3RlcCBvZiB0aGUgdXBsb2FkCiAqIHByb2Nlc3MuCiAqIEBwYXJhbSB7c3RyaW5nfSBpbnB1dElkIEVsZW1lbnQgSUQgb2YgdGhlIGlucHV0IGZpbGUgcGlja2VyIGVsZW1lbnQuCiAqIEBwYXJhbSB7c3RyaW5nfSBvdXRwdXRJZCBFbGVtZW50IElEIG9mIHRoZSBvdXRwdXQgZGlzcGxheS4KICogQHJldHVybiB7IUl0ZXJhYmxlPCFPYmplY3Q+fSBJdGVyYWJsZSBvZiBuZXh0IHN0ZXBzLgogKi8KZnVuY3Rpb24qIHVwbG9hZEZpbGVzU3RlcChpbnB1dElkLCBvdXRwdXRJZCkgewogIGNvbnN0IGlucHV0RWxlbWVudCA9IGRvY3VtZW50LmdldEVsZW1lbnRCeUlkKGlucHV0SWQpOwogIGlucHV0RWxlbWVudC5kaXNhYmxlZCA9IGZhbHNlOwoKICBjb25zdCBvdXRwdXRFbGVtZW50ID0gZG9jdW1lbnQuZ2V0RWxlbWVudEJ5SWQob3V0cHV0SWQpOwogIG91dHB1dEVsZW1lbnQuaW5uZXJIVE1MID0gJyc7CgogIGNvbnN0IHBpY2tlZFByb21pc2UgPSBuZXcgUHJvbWlzZSgocmVzb2x2ZSkgPT4gewogICAgaW5wdXRFbGVtZW50LmFkZEV2ZW50TGlzdGVuZXIoJ2NoYW5nZScsIChlKSA9PiB7CiAgICAgIHJlc29sdmUoZS50YXJnZXQuZmlsZXMpOwogICAgfSk7CiAgfSk7CgogIGNvbnN0IGNhbmNlbCA9IGRvY3VtZW50LmNyZWF0ZUVsZW1lbnQoJ2J1dHRvbicpOwogIGlucHV0RWxlbWVudC5wYXJlbnRFbGVtZW50LmFwcGVuZENoaWxkKGNhbmNlbCk7CiAgY2FuY2VsLnRleHRDb250ZW50ID0gJ0NhbmNlbCB1cGxvYWQnOwogIGNvbnN0IGNhbmNlbFByb21pc2UgPSBuZXcgUHJvbWlzZSgocmVzb2x2ZSkgPT4gewogICAgY2FuY2VsLm9uY2xpY2sgPSAoKSA9PiB7CiAgICAgIHJlc29sdmUobnVsbCk7CiAgICB9OwogIH0pOwoKICAvLyBXYWl0IGZvciB0aGUgdXNlciB0byBwaWNrIHRoZSBmaWxlcy4KICBjb25zdCBmaWxlcyA9IHlpZWxkIHsKICAgIHByb21pc2U6IFByb21pc2UucmFjZShbcGlja2VkUHJvbWlzZSwgY2FuY2VsUHJvbWlzZV0pLAogICAgcmVzcG9uc2U6IHsKICAgICAgYWN0aW9uOiAnc3RhcnRpbmcnLAogICAgfQogIH07CgogIGNhbmNlbC5yZW1vdmUoKTsKCiAgLy8gRGlzYWJsZSB0aGUgaW5wdXQgZWxlbWVudCBzaW5jZSBmdXJ0aGVyIHBpY2tzIGFyZSBub3QgYWxsb3dlZC4KICBpbnB1dEVsZW1lbnQuZGlzYWJsZWQgPSB0cnVlOwoKICBpZiAoIWZpbGVzKSB7CiAgICByZXR1cm4gewogICAgICByZXNwb25zZTogewogICAgICAgIGFjdGlvbjogJ2NvbXBsZXRlJywKICAgICAgfQogICAgfTsKICB9CgogIGZvciAoY29uc3QgZmlsZSBvZiBmaWxlcykgewogICAgY29uc3QgbGkgPSBkb2N1bWVudC5jcmVhdGVFbGVtZW50KCdsaScpOwogICAgbGkuYXBwZW5kKHNwYW4oZmlsZS5uYW1lLCB7Zm9udFdlaWdodDogJ2JvbGQnfSkpOwogICAgbGkuYXBwZW5kKHNwYW4oCiAgICAgICAgYCgke2ZpbGUudHlwZSB8fCAnbi9hJ30pIC0gJHtmaWxlLnNpemV9IGJ5dGVzLCBgICsKICAgICAgICBgbGFzdCBtb2RpZmllZDogJHsKICAgICAgICAgICAgZmlsZS5sYXN0TW9kaWZpZWREYXRlID8gZmlsZS5sYXN0TW9kaWZpZWREYXRlLnRvTG9jYWxlRGF0ZVN0cmluZygpIDoKICAgICAgICAgICAgICAgICAgICAgICAgICAgICAgICAgICAgJ24vYSd9IC0gYCkpOwogICAgY29uc3QgcGVyY2VudCA9IHNwYW4oJzAlIGRvbmUnKTsKICAgIGxpLmFwcGVuZENoaWxkKHBlcmNlbnQpOwoKICAgIG91dHB1dEVsZW1lbnQuYXBwZW5kQ2hpbGQobGkpOwoKICAgIGNvbnN0IGZpbGVEYXRhUHJvbWlzZSA9IG5ldyBQcm9taXNlKChyZXNvbHZlKSA9PiB7CiAgICAgIGNvbnN0IHJlYWRlciA9IG5ldyBGaWxlUmVhZGVyKCk7CiAgICAgIHJlYWRlci5vbmxvYWQgPSAoZSkgPT4gewogICAgICAgIHJlc29sdmUoZS50YXJnZXQucmVzdWx0KTsKICAgICAgfTsKICAgICAgcmVhZGVyLnJlYWRBc0FycmF5QnVmZmVyKGZpbGUpOwogICAgfSk7CiAgICAvLyBXYWl0IGZvciB0aGUgZGF0YSB0byBiZSByZWFkeS4KICAgIGxldCBmaWxlRGF0YSA9IHlpZWxkIHsKICAgICAgcHJvbWlzZTogZmlsZURhdGFQcm9taXNlLAogICAgICByZXNwb25zZTogewogICAgICAgIGFjdGlvbjogJ2NvbnRpbnVlJywKICAgICAgfQogICAgfTsKCiAgICAvLyBVc2UgYSBjaHVua2VkIHNlbmRpbmcgdG8gYXZvaWQgbWVzc2FnZSBzaXplIGxpbWl0cy4gU2VlIGIvNjIxMTU2NjAuCiAgICBsZXQgcG9zaXRpb24gPSAwOwogICAgd2hpbGUgKHBvc2l0aW9uIDwgZmlsZURhdGEuYnl0ZUxlbmd0aCkgewogICAgICBjb25zdCBsZW5ndGggPSBNYXRoLm1pbihmaWxlRGF0YS5ieXRlTGVuZ3RoIC0gcG9zaXRpb24sIE1BWF9QQVlMT0FEX1NJWkUpOwogICAgICBjb25zdCBjaHVuayA9IG5ldyBVaW50OEFycmF5KGZpbGVEYXRhLCBwb3NpdGlvbiwgbGVuZ3RoKTsKICAgICAgcG9zaXRpb24gKz0gbGVuZ3RoOwoKICAgICAgY29uc3QgYmFzZTY0ID0gYnRvYShTdHJpbmcuZnJvbUNoYXJDb2RlLmFwcGx5KG51bGwsIGNodW5rKSk7CiAgICAgIHlpZWxkIHsKICAgICAgICByZXNwb25zZTogewogICAgICAgICAgYWN0aW9uOiAnYXBwZW5kJywKICAgICAgICAgIGZpbGU6IGZpbGUubmFtZSwKICAgICAgICAgIGRhdGE6IGJhc2U2NCwKICAgICAgICB9LAogICAgICB9OwogICAgICBwZXJjZW50LnRleHRDb250ZW50ID0KICAgICAgICAgIGAke01hdGgucm91bmQoKHBvc2l0aW9uIC8gZmlsZURhdGEuYnl0ZUxlbmd0aCkgKiAxMDApfSUgZG9uZWA7CiAgICB9CiAgfQoKICAvLyBBbGwgZG9uZS4KICB5aWVsZCB7CiAgICByZXNwb25zZTogewogICAgICBhY3Rpb246ICdjb21wbGV0ZScsCiAgICB9CiAgfTsKfQoKc2NvcGUuZ29vZ2xlID0gc2NvcGUuZ29vZ2xlIHx8IHt9OwpzY29wZS5nb29nbGUuY29sYWIgPSBzY29wZS5nb29nbGUuY29sYWIgfHwge307CnNjb3BlLmdvb2dsZS5jb2xhYi5fZmlsZXMgPSB7CiAgX3VwbG9hZEZpbGVzLAogIF91cGxvYWRGaWxlc0NvbnRpbnVlLAp9Owp9KShzZWxmKTsK",
       "headers": [
        [
         "content-type",
         "application/javascript"
        ]
       ],
       "ok": true,
       "status": 200,
       "status_text": ""
      }
     }
    },
    "id": "kMj9Ek9fzEqS",
    "outputId": "5441681e-82de-444f-b15e-99414842764e"
   },
   "outputs": [],
   "source": [
    "from google.colab import files\n",
    "files.upload()\n",
    "\n",
    "# From a text file\n",
    "my_arr = np.loadtxt('loadarray.txt')\n",
    "my_arr"
   ]
  },
  {
   "cell_type": "markdown",
   "metadata": {
    "id": "X2tAlMIpzEqS"
   },
   "source": [
    "### Investigating an ndarray"
   ]
  },
  {
   "cell_type": "code",
   "execution_count": null,
   "metadata": {
    "colab": {
     "base_uri": "https://localhost:8080/"
    },
    "id": "seN5n5EJzEqS",
    "outputId": "a344ceae-7d10-4b0d-b22f-eb6744e7e70b"
   },
   "outputs": [],
   "source": [
    "# Number of dimensions\n",
    "\n",
    "my_arr.ndim"
   ]
  },
  {
   "cell_type": "code",
   "execution_count": null,
   "metadata": {
    "colab": {
     "base_uri": "https://localhost:8080/"
    },
    "id": "2IUnezPwzEqS",
    "outputId": "9648922e-6fde-4534-dd17-828827b912cb"
   },
   "outputs": [],
   "source": [
    "# Shape\n",
    "\n",
    "my_arr.shape"
   ]
  },
  {
   "cell_type": "code",
   "execution_count": null,
   "metadata": {
    "colab": {
     "base_uri": "https://localhost:8080/"
    },
    "id": "GNSwpSi7zEqS",
    "outputId": "065ede41-bc5d-40d1-a9e9-6577a08f02e4"
   },
   "outputs": [],
   "source": [
    "# Data type\n",
    "\n",
    "my_arr.dtype"
   ]
  },
  {
   "cell_type": "markdown",
   "metadata": {
    "id": "s1w42nnWzEqS"
   },
   "source": [
    "### Indexing and slicing"
   ]
  },
  {
   "cell_type": "code",
   "execution_count": null,
   "metadata": {
    "colab": {
     "base_uri": "https://localhost:8080/"
    },
    "id": "lUqae80VzEqS",
    "outputId": "5dde0602-7a17-48c7-838b-8817eb5b67a3"
   },
   "outputs": [],
   "source": [
    "sales = np.array([20, 30, 31, 33, 33, 35, 40, 410, 410, 45])\n",
    "sales[7:9]"
   ]
  },
  {
   "cell_type": "markdown",
   "metadata": {
    "id": "9TwUSN45zEqS"
   },
   "source": [
    "### Mathematical and statistical operations, functions, and methods\n",
    "\n",
    "Remember, *elementwise* operations."
   ]
  },
  {
   "cell_type": "code",
   "execution_count": null,
   "metadata": {
    "id": "hrBghxyzzEqS"
   },
   "outputs": [],
   "source": [
    "arr1 = np.arange(10)\n",
    "arr2 = arr1 + 2"
   ]
  },
  {
   "cell_type": "code",
   "execution_count": null,
   "metadata": {
    "colab": {
     "base_uri": "https://localhost:8080/"
    },
    "id": "Og9O4jSGzEqS",
    "outputId": "3c3b64f5-119f-4eae-beb8-320feb347dfa"
   },
   "outputs": [],
   "source": [
    "arr1"
   ]
  },
  {
   "cell_type": "code",
   "execution_count": null,
   "metadata": {
    "colab": {
     "base_uri": "https://localhost:8080/"
    },
    "id": "HJEPu3yhzEqS",
    "outputId": "ea4683a4-ab86-426e-d78a-d580392ae913"
   },
   "outputs": [],
   "source": [
    "arr2"
   ]
  },
  {
   "cell_type": "code",
   "execution_count": null,
   "metadata": {
    "colab": {
     "base_uri": "https://localhost:8080/"
    },
    "id": "mB5LuBm6zEqS",
    "outputId": "3289cac6-0bf9-43d1-e378-d9f926f9fc65"
   },
   "outputs": [],
   "source": [
    "arr1 + arr2"
   ]
  },
  {
   "cell_type": "code",
   "execution_count": null,
   "metadata": {
    "colab": {
     "base_uri": "https://localhost:8080/"
    },
    "id": "sY0AMA6BzEqS",
    "outputId": "3936a48a-4110-41db-9869-fba47e742696"
   },
   "outputs": [],
   "source": [
    "arr2 * arr2"
   ]
  },
  {
   "cell_type": "code",
   "execution_count": null,
   "metadata": {
    "colab": {
     "base_uri": "https://localhost:8080/"
    },
    "id": "XHNfk7SgzEqS",
    "outputId": "75d06bf9-26b0-4cb3-b1c7-d5d45324dcb4"
   },
   "outputs": [],
   "source": [
    "arr2 ** 0.5"
   ]
  },
  {
   "cell_type": "code",
   "execution_count": null,
   "metadata": {
    "colab": {
     "base_uri": "https://localhost:8080/"
    },
    "id": "i9DiwFpezEqS",
    "outputId": "ce74d465-2a2f-45cb-c505-7f5c0667e58b"
   },
   "outputs": [],
   "source": [
    "1/arr2"
   ]
  },
  {
   "cell_type": "code",
   "execution_count": null,
   "metadata": {
    "colab": {
     "base_uri": "https://localhost:8080/"
    },
    "id": "YGM27-y5zEqS",
    "outputId": "90b95349-c328-48ac-864a-804dc4925e35"
   },
   "outputs": [],
   "source": [
    "# Equivalent to arr2 * arr2\n",
    "\n",
    "np.square(arr2)"
   ]
  },
  {
   "cell_type": "code",
   "execution_count": null,
   "metadata": {
    "colab": {
     "base_uri": "https://localhost:8080/"
    },
    "id": "65Fe9QtazEqS",
    "outputId": "2e13fcdb-2b29-4906-dad1-4fc03960a435"
   },
   "outputs": [],
   "source": [
    "# Equivalent to arr2 ** 0.5\n",
    "\n",
    "np.sqrt(arr2)"
   ]
  },
  {
   "cell_type": "markdown",
   "metadata": {
    "id": "5MmsaqGyzEqT"
   },
   "source": [
    "This is only a small sample of the many ufuncs that are out there - for more ufuncs, check out the documentation: https://docs.scipy.org/doc/numpy/reference/ufuncs.html#available-ufuncs"
   ]
  },
  {
   "cell_type": "markdown",
   "metadata": {
    "id": "ruWSWgcDzEqT"
   },
   "source": [
    "### Array aggregate"
   ]
  },
  {
   "cell_type": "code",
   "execution_count": null,
   "metadata": {
    "colab": {
     "base_uri": "https://localhost:8080/"
    },
    "id": "XOxImFz9zEqT",
    "outputId": "870af9fb-97e5-4b90-bb26-7907539a8469"
   },
   "outputs": [],
   "source": [
    "my_arr"
   ]
  },
  {
   "cell_type": "code",
   "execution_count": null,
   "metadata": {
    "colab": {
     "base_uri": "https://localhost:8080/"
    },
    "id": "hTnfgpUszEqT",
    "outputId": "cbdb02d5-02ff-402f-de8a-9c8e4a4b2a06"
   },
   "outputs": [],
   "source": [
    "## CODE CELL 33\n",
    "# Sum of all elements\n",
    "\n",
    "my_arr.sum()"
   ]
  },
  {
   "cell_type": "code",
   "execution_count": null,
   "metadata": {
    "colab": {
     "base_uri": "https://localhost:8080/"
    },
    "id": "_YhgVju1zEqT",
    "outputId": "72da4c5e-f151-4931-d062-ac0d2dc293de"
   },
   "outputs": [],
   "source": [
    "## CODE CELL 34\n",
    "# Arithmetic mean\n",
    "\n",
    "my_arr.mean()"
   ]
  },
  {
   "cell_type": "code",
   "execution_count": null,
   "metadata": {
    "colab": {
     "base_uri": "https://localhost:8080/"
    },
    "id": "CxmGp_A7zEqT",
    "outputId": "a8207afa-ae7f-4785-c53a-8c8d643a5b17"
   },
   "outputs": [],
   "source": [
    "# Standard deviation (optionally, adjust degrees of freedom used in calculation via ddof parameter)\n",
    "\n",
    "my_arr.std()"
   ]
  },
  {
   "cell_type": "code",
   "execution_count": null,
   "metadata": {
    "colab": {
     "base_uri": "https://localhost:8080/"
    },
    "id": "LjrnQMCKzEqT",
    "outputId": "6643f5f9-e11b-4f1c-a820-fa97acdcc73c"
   },
   "outputs": [],
   "source": [
    "# Variance (ddof adjustable)\n",
    "\n",
    "my_arr.var()"
   ]
  },
  {
   "cell_type": "code",
   "execution_count": null,
   "metadata": {
    "colab": {
     "base_uri": "https://localhost:8080/"
    },
    "id": "YHo5qmTAzEqT",
    "outputId": "67015269-8d86-411e-ee73-de8f8f6a61b7"
   },
   "outputs": [],
   "source": [
    "# Maximum of all elements\n",
    "\n",
    "my_arr.max()"
   ]
  },
  {
   "cell_type": "code",
   "execution_count": null,
   "metadata": {
    "colab": {
     "base_uri": "https://localhost:8080/"
    },
    "id": "ywC2UX3izEqT",
    "outputId": "a84faa09-6271-4459-d4f0-c1c05b02a92e"
   },
   "outputs": [],
   "source": [
    "# Minimum of all elements\n",
    "\n",
    "my_arr.min()"
   ]
  },
  {
   "cell_type": "code",
   "execution_count": null,
   "metadata": {
    "colab": {
     "base_uri": "https://localhost:8080/"
    },
    "id": "vOrJ6bbIzEqT",
    "outputId": "0e9bd066-f79a-44eb-8a0b-86f1e7299aa4"
   },
   "outputs": [],
   "source": [
    "# What if I want the maximum value in each row?\n",
    "\n",
    "my_arr.max(axis=1)"
   ]
  },
  {
   "cell_type": "code",
   "execution_count": null,
   "metadata": {
    "colab": {
     "base_uri": "https://localhost:8080/"
    },
    "id": "7i6pcHpXzEqT",
    "outputId": "c212b296-22ae-43f5-d0d2-2b89b073302f"
   },
   "outputs": [],
   "source": [
    "# Finding the indices of the maximum element of the array\n",
    "\n",
    "my_arr.argmax()"
   ]
  },
  {
   "cell_type": "markdown",
   "metadata": {
    "id": "pHrXy__izEqT"
   },
   "source": [
    "## Pandas"
   ]
  },
  {
   "cell_type": "code",
   "execution_count": null,
   "metadata": {
    "id": "ndJTrzK1zEqT"
   },
   "outputs": [],
   "source": [
    "import pandas as pd"
   ]
  },
  {
   "cell_type": "code",
   "execution_count": null,
   "metadata": {
    "colab": {
     "base_uri": "https://localhost:8080/",
     "height": 109,
     "resources": {
      "http://localhost:8080/nbextensions/google.colab/files.js": {
       "data": "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",
       "headers": [
        [
         "content-type",
         "application/javascript"
        ]
       ],
       "ok": true,
       "status": 200,
       "status_text": ""
      }
     }
    },
    "id": "p19lWPPNzEqT",
    "outputId": "013bc7a0-e07c-4c43-fdc8-441cb6f57fd8"
   },
   "outputs": [],
   "source": [
    "from google.colab import files\n",
    "files.upload()"
   ]
  },
  {
   "cell_type": "code",
   "execution_count": null,
   "metadata": {
    "id": "yg2av9tDzEqT"
   },
   "outputs": [],
   "source": [
    "# Read in the data\n",
    "\n",
    "persons = pd.read_csv('unhcr_popstats_export_persons_of_concern_all_data.csv', header=3, na_values = '*')"
   ]
  },
  {
   "cell_type": "code",
   "execution_count": null,
   "metadata": {
    "colab": {
     "base_uri": "https://localhost:8080/",
     "height": 238
    },
    "id": "OSkb4TzhzEqT",
    "outputId": "f253b7ce-a4b7-461b-9220-88fd18d3b84f"
   },
   "outputs": [],
   "source": [
    "persons.tail()"
   ]
  },
  {
   "cell_type": "code",
   "execution_count": null,
   "metadata": {
    "colab": {
     "base_uri": "https://localhost:8080/"
    },
    "id": "tegDh7mFzEqT",
    "outputId": "f8d637e9-eb7d-4563-a9c5-d767134c0242"
   },
   "outputs": [],
   "source": [
    "persons.info()"
   ]
  },
  {
   "cell_type": "code",
   "execution_count": null,
   "metadata": {
    "colab": {
     "base_uri": "https://localhost:8080/",
     "height": 204
    },
    "id": "IyQjNRBFzEqT",
    "outputId": "88dfcfa8-a1a6-478f-fdea-9ec0b726942c"
   },
   "outputs": [],
   "source": [
    "per_renamed = persons.rename(index=str, columns ={'Country / territory of asylum/residence': 'Residence',\n",
    "                                    'Refugees (incl. refugee-like situations)': 'Refugees',\n",
    "                                    'Asylum-seekers (pending cases)': 'Asylum-seekers',\n",
    "                                    'Internally displaced persons (IDPs)': 'IDPs'})\n",
    "per_renamed.head()"
   ]
  },
  {
   "cell_type": "markdown",
   "metadata": {
    "id": "3pEaA27XzEqT"
   },
   "source": [
    "How do we look at specific columns?"
   ]
  },
  {
   "cell_type": "code",
   "execution_count": null,
   "metadata": {
    "colab": {
     "base_uri": "https://localhost:8080/"
    },
    "id": "ighsKv95zEqT",
    "outputId": "1722c245-a075-435c-bbfb-0029cdf5f642"
   },
   "outputs": [],
   "source": [
    "per_renamed['Origin']"
   ]
  },
  {
   "cell_type": "markdown",
   "metadata": {
    "id": "AJj59OKKzEqT"
   },
   "source": [
    "Let's say we want to focus on persons from Somalia."
   ]
  },
  {
   "cell_type": "code",
   "execution_count": null,
   "metadata": {
    "colab": {
     "base_uri": "https://localhost:8080/",
     "height": 419
    },
    "id": "4UzXJeLKzEqT",
    "outputId": "a2e32fa8-f46c-4da2-e323-5412cd07fbfc"
   },
   "outputs": [],
   "source": [
    "somali = per_renamed[per_renamed['Origin'] == 'Somalia']\n",
    "somali"
   ]
  },
  {
   "cell_type": "markdown",
   "metadata": {
    "id": "MWvxl5OJzEqT"
   },
   "source": [
    "Now, let's say we want to be more specific and focus on Somalis who have come to the U.S. between 2000-2016."
   ]
  },
  {
   "cell_type": "code",
   "execution_count": null,
   "metadata": {
    "colab": {
     "base_uri": "https://localhost:8080/",
     "height": 576
    },
    "id": "-V2HjSfHzEqT",
    "outputId": "72dbecb5-e9d5-44c8-83cf-c87cd4d776cf"
   },
   "outputs": [],
   "source": [
    "somali_us = somali[(somali['Residence'] == 'United States of America') & (somali['Year'] >= 2000) & (somali['Year'] <= 2016)]\n",
    "somali_us"
   ]
  },
  {
   "cell_type": "markdown",
   "metadata": {
    "id": "NQ5zM5Jr2Gsn"
   },
   "source": [
    "## Data Visulization"
   ]
  },
  {
   "cell_type": "code",
   "execution_count": null,
   "metadata": {
    "id": "vqo_uHtezEqT"
   },
   "outputs": [],
   "source": [
    "%matplotlib inline\n",
    "\n",
    "import matplotlib.pyplot as plt\n",
    "import matplotlib.cm as cm\n",
    "from google.colab import files"
   ]
  },
  {
   "cell_type": "code",
   "execution_count": null,
   "metadata": {
    "colab": {
     "base_uri": "https://localhost:8080/",
     "height": 312
    },
    "id": "2-xfi4YGzEqT",
    "outputId": "fe1fef24-4296-4d60-a89a-9b444b92f645"
   },
   "outputs": [],
   "source": [
    "## CODE CELL 2\n",
    "# Line plot\n",
    "\n",
    "x = np.arange(0,101,10)    # creating an array from 0 to 100 in steps of 10\n",
    "y = np.square(x)           # creating an array by element-wise squaring of array \"x\"\n",
    "\n",
    "plt.plot(x, y)\n",
    "plt.xlabel('x')\n",
    "plt.ylabel('y')\n",
    "plt.title('Part of a Parabolic Plot')\n",
    "\n",
    "plt.savefig('parabolic.png')    # saving plot to the Figures folder (or overwrite if file already in folder)\n",
    "files.download(\"parabolic.png\") \n",
    "\n",
    "xmin, xmax = plt.xlim()    # get values for current x-axis limits\n",
    "print('xmin:', xmin, 'xmax:', xmax)"
   ]
  },
  {
   "cell_type": "markdown",
   "metadata": {
    "id": "wFJNSqYOzEqT"
   },
   "source": [
    "What if we want to change the axes ranges?"
   ]
  },
  {
   "cell_type": "code",
   "execution_count": null,
   "metadata": {
    "id": "LoNDwRo9zEqT",
    "outputId": "365a34d5-3a30-40e3-b22e-06ce955a64f0"
   },
   "outputs": [],
   "source": [
    "## CODE CELL 3\n",
    "# Line plot again, with adjusted axes\n",
    "\n",
    "x = np.arange(0,101,10)   \n",
    "y = np.square(x)           \n",
    "\n",
    "plt.plot(x, y)\n",
    "\n",
    "plt.xlim(0, 40)    # setting x-axis limits\n",
    "plt.ylim(0, 2000)  # setting y-axis limits\n",
    "\n",
    "plt.xlabel('x')\n",
    "plt.ylabel('y')\n",
    "plt.title('Part of a Parabolic Plot - Zoomed In')\n",
    "\n",
    "plt.show()"
   ]
  },
  {
   "cell_type": "markdown",
   "metadata": {
    "id": "sh0bBXo2zEqU"
   },
   "source": [
    "Alright, let's say that we're happy with these x- and y- limits. What if we want to change the color and style of the plotted line?\n",
    "\n",
    "`plt.plot()` allows you to specify formatting options for each x-y dataset you're plotting. Each formatting type is optional (not specifying just means default values will be used), but must be specified in a string in the following order: *color* + *marker style* + *line style*. See the following example:"
   ]
  },
  {
   "cell_type": "code",
   "execution_count": null,
   "metadata": {
    "id": "5Jz_PNT_zEqU",
    "outputId": "02f92ead-f88a-4615-8eac-51c0fde4e40e"
   },
   "outputs": [],
   "source": [
    "# Line plot again, this time with customized formatting\n",
    "\n",
    "x = np.arange(0,101,10)   \n",
    "y = np.square(x)           \n",
    "\n",
    "plt.plot(x, y, 'mo--')    # color = magenta, marker = circle, line style = dashed\n",
    "plt.xlabel('x')\n",
    "plt.ylabel('y')\n",
    "plt.title('Part of a Parabolic Plot - Magenta')\n",
    "\n",
    "plt.show()"
   ]
  },
  {
   "cell_type": "code",
   "execution_count": null,
   "metadata": {
    "id": "qz_5BdIUzEqU",
    "outputId": "8ae29624-34d5-4923-8792-820921a4a9a4"
   },
   "outputs": [],
   "source": [
    "\n",
    "x = np.arange(0,101,10)   \n",
    "y = np.square(x)           \n",
    "\n",
    "plt.scatter(x, y)    # color = magenta, marker = circle, line style = dashed\n",
    "plt.xlabel('x')\n",
    "plt.ylabel('y')\n",
    "plt.title('Part of a Parabolic Plot - Magenta')\n",
    "\n",
    "plt.show()"
   ]
  },
  {
   "cell_type": "markdown",
   "metadata": {
    "id": "l1nEbc8ozEqU"
   },
   "source": [
    "What if you want to plot multiple data series? If you're calling `plt.plot()` on both of them, you can just add the x, y, and formatting options in the same call:"
   ]
  },
  {
   "cell_type": "code",
   "execution_count": null,
   "metadata": {
    "id": "VG5zgkQhzEqU",
    "outputId": "f6dafd65-7262-4e1d-be42-7523af5a2067"
   },
   "outputs": [],
   "source": [
    "# Two series plotted as lines\n",
    "\n",
    "x = np.arange(0,101,10)   \n",
    "y1 = np.square(x)\n",
    "y2 = np.power(x, 2.2)\n",
    "\n",
    "plt.plot(x, y1, 'mo--', x, y2, 'gD-')    # color = magenta, marker = circle, line style = dashed\n",
    "plt.xlabel('x')\n",
    "plt.ylabel('y')\n",
    "plt.legend(['Series 1','Series 2'])\n",
    "plt.title('Plotting Two Series')\n",
    "\n",
    "plt.show()"
   ]
  },
  {
   "cell_type": "code",
   "execution_count": null,
   "metadata": {
    "id": "1_B0TSATzEqU",
    "outputId": "6dc371d1-00fe-43cc-c8d0-4019aecd9e9b"
   },
   "outputs": [],
   "source": [
    "# Line plot and scatter plot\n",
    "\n",
    "x1 = np.arange(0,101,10)\n",
    "x2 = np.arange(10,91,5)\n",
    "y1 = np.square(x1)  \n",
    "y2 = np.power(x2, 2.2)\n",
    "\n",
    "plt.plot(x1, y1, 'mo--')\n",
    "plt.scatter(x2, y2)\n",
    "\n",
    "plt.xlabel('x')\n",
    "plt.ylabel('y')\n",
    "plt.legend(['Line','Scatter'])\n",
    "plt.title('Part of a Parabolic Plot - Magenta')\n",
    "\n",
    "plt.show()"
   ]
  },
  {
   "cell_type": "code",
   "execution_count": null,
   "metadata": {
    "id": "tHS5tbQtzEqU",
    "outputId": "53e2a65f-405b-44d3-e35d-8f5abb066cbe"
   },
   "outputs": [],
   "source": [
    "# Example distribution using sample data from normal distribution\n",
    "\n",
    "np.random.seed(10)\n",
    "distr = 10 + np.random.randn(1000)*5\n",
    "\n",
    "# Creating a histogram from the distribution with 20 bins, counts normalized to get probability density\n",
    "histogram = plt.hist(distr, bins=20, density=True, alpha=0.7)\n",
    "n, bins, patches = histogram        # plt.hist() returns values for bin values, bin edges, and patches used to make histogram\n",
    "plt.xlabel('x', size=12)\n",
    "plt.ylabel('Probability', size=12)\n",
    "plt.show()\n",
    "\n",
    "print('Values for each bin:', n)\n",
    "print('Edges of the bins:', bins)"
   ]
  },
  {
   "cell_type": "markdown",
   "metadata": {
    "id": "UhYqwXR5oCE0"
   },
   "source": [
    "*References*:\n",
    "\n",
    "The following materials were consulted during development of this notebook:\n",
    "\n",
    "J. Zelle, *Python Programming: An Introduction to Computer Science*, 2nd ed. Sherwood, Oregon: Franklin, Beedle & Associates Inc., 2010.\n",
    "\n",
    "Python 3 Documentation from the Python Software Foundation: https://docs.python.org/3/"
   ]
  }
 ],
 "metadata": {
  "colab": {
   "name": "Python_intro_workshop.ipynb",
   "provenance": []
  },
  "kernelspec": {
   "display_name": "Python 3",
   "language": "python",
   "name": "python3"
  },
  "language_info": {
   "codemirror_mode": {
    "name": "ipython",
    "version": 3
   },
   "file_extension": ".py",
   "mimetype": "text/x-python",
   "name": "python",
   "nbconvert_exporter": "python",
   "pygments_lexer": "ipython3",
   "version": "3.6.8"
  }
 },
 "nbformat": 4,
 "nbformat_minor": 1
}
